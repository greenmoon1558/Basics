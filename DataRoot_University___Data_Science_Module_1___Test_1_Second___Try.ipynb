{
  "nbformat": 4,
  "nbformat_minor": 0,
  "metadata": {
    "colab": {
      "name": "DataRoot University  _ Data Science Module 1 _ Test 1_Second _ Try.ipynb",
      "version": "0.3.2",
      "provenance": [],
      "collapsed_sections": [],
      "include_colab_link": true
    },
    "kernelspec": {
      "display_name": "Python 3",
      "language": "python",
      "name": "python3"
    }
  },
  "cells": [
    {
      "cell_type": "markdown",
      "metadata": {
        "id": "view-in-github",
        "colab_type": "text"
      },
      "source": [
        "[View in Colaboratory](https://colab.research.google.com/github/greenmoon1558/Basics/blob/master/DataRoot_University___Data_Science_Module_1___Test_1_Second___Try.ipynb)"
      ]
    },
    {
      "metadata": {
        "id": "FcUMBPITD-SP",
        "colab_type": "text"
      },
      "cell_type": "markdown",
      "source": [
        "## Requirements:\n",
        "\n",
        ">  Python 3.6.4\n",
        "\n",
        ">  numpy 1.14.0\n",
        "\n",
        ">  scipy 1.0.0\n",
        "\n",
        ">  pandas 0.22.0\n"
      ]
    },
    {
      "metadata": {
        "id": "W-pSHoJwR3Gd",
        "colab_type": "text"
      },
      "cell_type": "markdown",
      "source": [
        "# Python and algorithms"
      ]
    },
    {
      "metadata": {
        "id": "21sIYhRDR3Gf",
        "colab_type": "text"
      },
      "cell_type": "markdown",
      "source": [
        "##### Сomplete this part of test without using any libs (your code must not contain keyword 'import')"
      ]
    },
    {
      "metadata": {
        "id": "09KvWmy1R3Gh",
        "colab_type": "text"
      },
      "cell_type": "markdown",
      "source": [
        "** 1. Implement function max_sum_index(tuples), which returnes index of tuple in the list with maximum sum of elements:**\n",
        "\n",
        "<div style=\"text-align: right\">DRP reward: 2</div>"
      ]
    },
    {
      "metadata": {
        "id": "NraNj-7vR3Gi",
        "colab_type": "code",
        "colab": {}
      },
      "cell_type": "code",
      "source": [
        "def max_sum_index(tuples):  \n",
        "    '''\n",
        "    :param tuples: list[tuple]\n",
        "    :return: int\n",
        "    '''\n",
        "    sums = 0\n",
        "    result_index = None\n",
        "    i = 0\n",
        "    for tuple in tuples:\n",
        "      temp_sum = sum(tuple)\n",
        "      if (temp_sum)>sums:\n",
        "        sums = temp_sum\n",
        "        result_index = i\n",
        "      i+=1\n",
        "    return result_index"
      ],
      "execution_count": 0,
      "outputs": []
    },
    {
      "metadata": {
        "id": "NFZSsR3QD-Sc",
        "colab_type": "code",
        "colab": {
          "base_uri": "https://localhost:8080/",
          "height": 34
        },
        "outputId": "36b27914-c768-4cc4-b388-282d6e0e796d"
      },
      "cell_type": "code",
      "source": [
        "print(max_sum_index([(10, 20), (40, 32), (30, 25)]))"
      ],
      "execution_count": 63,
      "outputs": [
        {
          "output_type": "stream",
          "text": [
            "1\n"
          ],
          "name": "stdout"
        }
      ]
    },
    {
      "metadata": {
        "id": "7ZESHlAqD-Sg",
        "colab_type": "text"
      },
      "cell_type": "markdown",
      "source": [
        "Expected Output: \n",
        "<table>\n",
        "  <tr>\n",
        "    <td>Index:</td>\n",
        "    <td> 1 </td> \n",
        "  </tr>"
      ]
    },
    {
      "metadata": {
        "id": "94CC4C6AR3Gk",
        "colab_type": "text"
      },
      "cell_type": "markdown",
      "source": [
        "** 2. Implement function harmonic_sum(n) which returns sum of harmonic series of positive ineger n:**\n",
        "\n",
        "<div style=\"text-align: right\">DRP reward: 2</div>"
      ]
    },
    {
      "metadata": {
        "id": "x-N_0ZH3R3Gl",
        "colab_type": "code",
        "colab": {}
      },
      "cell_type": "code",
      "source": [
        "def harmonic_sum(n):\n",
        "    '''\n",
        "    :param n: int\n",
        "    :return: float   \n",
        "    '''\n",
        "    if n < 2:\n",
        "      return 1\n",
        "    else:\n",
        "      return 1 / n + (harmonic_sum(n - 1))"
      ],
      "execution_count": 0,
      "outputs": []
    },
    {
      "metadata": {
        "id": "yA4quKdtD-Sl",
        "colab_type": "code",
        "colab": {
          "base_uri": "https://localhost:8080/",
          "height": 34
        },
        "outputId": "ed8ac6b5-e1f1-41dd-a621-ee9bedbab970"
      },
      "cell_type": "code",
      "source": [
        "print(harmonic_sum(2))"
      ],
      "execution_count": 34,
      "outputs": [
        {
          "output_type": "stream",
          "text": [
            "1.5\n"
          ],
          "name": "stdout"
        }
      ]
    },
    {
      "metadata": {
        "id": "MFxrK0ZXD-So",
        "colab_type": "text"
      },
      "cell_type": "markdown",
      "source": [
        "Expected Output: \n",
        "<table>\n",
        "  <tr>\n",
        "    <td>Harmonic sum:</td>\n",
        "    <td> 1.5 </td> \n",
        "  </tr>"
      ]
    },
    {
      "metadata": {
        "id": "cAl-2_1BR3Gn",
        "colab_type": "text"
      },
      "cell_type": "markdown",
      "source": [
        "** 3. Implement class MyList, that contains method get_combinations(self, my_list), which returns all unique combinations of elements of given list, including empty element and in order, law of which can be discrovered from the example below:**\n",
        "\n",
        "<div style=\"text-align: right\">DRP reward: 2</div>"
      ]
    },
    {
      "metadata": {
        "id": "0rVyFD9vR3Go",
        "colab_type": "code",
        "colab": {}
      },
      "cell_type": "code",
      "source": [
        "class MyList:\n",
        "    def combinations(self, iterable, r):\n",
        "        pool = tuple(iterable)\n",
        "        n = len(pool)\n",
        "        if r > n:\n",
        "            return\n",
        "        indices = list(range(r))\n",
        "        yield tuple(pool[i] for i in indices)\n",
        "        while True:\n",
        "            for i in reversed(range(r)):\n",
        "                if indices[i] != i + n - r:\n",
        "                    break\n",
        "            else:\n",
        "                return\n",
        "            indices[i] += 1\n",
        "            for j in range(i+1, r):\n",
        "                indices[j] = indices[j-1] + 1\n",
        "            yield tuple(pool[i] for i in indices)\n",
        "            \n",
        "    def get_combinations(self, lst):        \n",
        "        combs = []\n",
        "        for i in range(0, len(lst)+1):\n",
        "            els = [list(x) for x in self. combinations(lst, i)]\n",
        "            combs.extend(els)\n",
        "        return combs"
      ],
      "execution_count": 0,
      "outputs": []
    },
    {
      "metadata": {
        "id": "YqNhUTh9D-Ss",
        "colab_type": "code",
        "colab": {
          "base_uri": "https://localhost:8080/",
          "height": 34
        },
        "outputId": "a2b08403-8375-4d2a-d33d-5eb67d2a2591"
      },
      "cell_type": "code",
      "source": [
        "print(MyList().get_combinations([1, 2, 'a']))"
      ],
      "execution_count": 28,
      "outputs": [
        {
          "output_type": "stream",
          "text": [
            "[[], [1], [2], ['a'], [1, 2], [1, 'a'], [2, 'a'], [1, 2, 'a']]\n"
          ],
          "name": "stdout"
        }
      ]
    },
    {
      "metadata": {
        "id": "WLLtuPMkD-Sw",
        "colab_type": "text"
      },
      "cell_type": "markdown",
      "source": [
        "Expected Output: \n",
        "<table>\n",
        "  <tr>\n",
        "    <td>Combinations:</td>\n",
        "    <td> [[], [1], [2], ['a'], [1, 2], [1, 'a'], [2, 'a'], [1, 2, 'a']] </td> \n",
        "  </tr>"
      ]
    },
    {
      "metadata": {
        "id": "GtGHA4YVR3Gq",
        "colab_type": "text"
      },
      "cell_type": "markdown",
      "source": [
        "** 4. Implement function gcd(n, m), which returns the greatest common divisor of n and m.**\n",
        "<div style=\"text-align: right\">DRP reward: 2</div>"
      ]
    },
    {
      "metadata": {
        "id": "WBV19iz7R3Gr",
        "colab_type": "code",
        "colab": {}
      },
      "cell_type": "code",
      "source": [
        "def gcd(n, m):   \n",
        "    '''\n",
        "    :params m,n: int\n",
        "    :return: int\n",
        "    '''\n",
        "    while m != 0:\n",
        "        (n, m) = (m, n % m)\n",
        "    return n"
      ],
      "execution_count": 0,
      "outputs": []
    },
    {
      "metadata": {
        "id": "FgoAU-YcD-S1",
        "colab_type": "code",
        "colab": {
          "base_uri": "https://localhost:8080/",
          "height": 34
        },
        "outputId": "feb326cd-4118-4fe4-ebfc-bf94db0e498b"
      },
      "cell_type": "code",
      "source": [
        "print(gcd(160, 180))"
      ],
      "execution_count": 43,
      "outputs": [
        {
          "output_type": "stream",
          "text": [
            "20\n"
          ],
          "name": "stdout"
        }
      ]
    },
    {
      "metadata": {
        "id": "vm-H4Z3fD-S5",
        "colab_type": "text"
      },
      "cell_type": "markdown",
      "source": [
        "Expected Output: \n",
        "<table>\n",
        "  <tr>\n",
        "    <td>GCD:</td>\n",
        "    <td> 20 </td> \n",
        "  </tr>"
      ]
    },
    {
      "metadata": {
        "id": "yUeu0rsKR3Gt",
        "colab_type": "text"
      },
      "cell_type": "markdown",
      "source": [
        "# Libraries"
      ]
    },
    {
      "metadata": {
        "id": "PgO2rW54D-S7",
        "colab_type": "text"
      },
      "cell_type": "markdown",
      "source": [
        "## Numpy"
      ]
    },
    {
      "metadata": {
        "id": "g9ug_Z19D-S7",
        "colab_type": "code",
        "colab": {}
      },
      "cell_type": "code",
      "source": [
        "import numpy as np"
      ],
      "execution_count": 0,
      "outputs": []
    },
    {
      "metadata": {
        "id": "-uqL4Uy1R3Gu",
        "colab_type": "text"
      },
      "cell_type": "markdown",
      "source": [
        "** 5. Implement function get_remainder(array), which returnes the element-wise remainder of an array of division by n.**\n",
        "\n",
        "<div style=\"text-align: right\">DRP reward: 2</div>"
      ]
    },
    {
      "metadata": {
        "id": "YoPPQEtpR3Gu",
        "colab_type": "code",
        "colab": {}
      },
      "cell_type": "code",
      "source": [
        "def get_remainder(array, n):\n",
        "    '''\n",
        "    :param array: numpy.ndarray\n",
        "    :param n: int\n",
        "    :return: numpy.ndarray  \n",
        "    '''\n",
        "    return array%n"
      ],
      "execution_count": 0,
      "outputs": []
    },
    {
      "metadata": {
        "id": "QMxYZaNSD-TF",
        "colab_type": "code",
        "colab": {
          "base_uri": "https://localhost:8080/",
          "height": 34
        },
        "outputId": "39c3119d-3252-4c46-d4ed-91fcc907db01"
      },
      "cell_type": "code",
      "source": [
        "print(get_remainder(np.array([0, 1, 2, 3, 4, 7]), 5))"
      ],
      "execution_count": 5,
      "outputs": [
        {
          "output_type": "stream",
          "text": [
            "[0 1 2 3 4 2]\n"
          ],
          "name": "stdout"
        }
      ]
    },
    {
      "metadata": {
        "id": "epeAUxoSD-TJ",
        "colab_type": "text"
      },
      "cell_type": "markdown",
      "source": [
        "Expected Output: \n",
        "<table>\n",
        "  <tr>\n",
        "    <td>remainder:</td>\n",
        "    <td> [0 1 2 3 4 2] </td> \n",
        "  </tr>"
      ]
    },
    {
      "metadata": {
        "id": "3cGST0AvR3Gw",
        "colab_type": "text"
      },
      "cell_type": "markdown",
      "source": [
        "** 6. Implement function svd_ranks(Z) which performs SVD of given matrix and returns a list of ranks of matrices U, S and V.**\n",
        "<div style=\"text-align: right\">DRP reward: 2</div>"
      ]
    },
    {
      "metadata": {
        "id": "ULsBIkmFR3Gx",
        "colab_type": "code",
        "colab": {}
      },
      "cell_type": "code",
      "source": [
        "def svd_ranks(Z): \n",
        "    '''\n",
        "    :param Z: numpy.ndarray[list[list[int]]]\n",
        "    :return: list  \n",
        "    '''\n",
        "    u, s, v = np.linalg.svd(Z, full_matrices=True)\n",
        "    S = np.zeros(Z.shape, dtype=complex)\n",
        "    S[:s.shape[0], :s.shape[0]] = np.diag(s)\n",
        "    return [np.linalg.matrix_rank(u), np.linalg.matrix_rank(S), np.linalg.matrix_rank(v)]"
      ],
      "execution_count": 0,
      "outputs": []
    },
    {
      "metadata": {
        "id": "VQmK1j9hD-TN",
        "colab_type": "code",
        "colab": {
          "base_uri": "https://localhost:8080/",
          "height": 34
        },
        "outputId": "bf0aaf57-0757-4f8f-a015-8f6d0d5c4288"
      },
      "cell_type": "code",
      "source": [
        "print('Svd ranks:',svd_ranks(np.arange(9).reshape((3,3))))"
      ],
      "execution_count": 7,
      "outputs": [
        {
          "output_type": "stream",
          "text": [
            "Svd ranks: [3, 2, 3]\n"
          ],
          "name": "stdout"
        }
      ]
    },
    {
      "metadata": {
        "id": "khi7ss1KD-TQ",
        "colab_type": "text"
      },
      "cell_type": "markdown",
      "source": [
        "Expected Output: \n",
        "<table>\n",
        "  <tr>\n",
        "    <td>Svd ranks:</td>\n",
        "    <td> [3, 2, 3] </td> \n",
        "  </tr>"
      ]
    },
    {
      "metadata": {
        "id": "piBZumJUD-TR",
        "colab_type": "text"
      },
      "cell_type": "markdown",
      "source": [
        "** 7. Implement function dft() which computes the discrete Fourier Transform of the 1D array x, without using numpy function np.fft.fft(). **\n",
        "<div style=\"text-align: right\">DRP reward: 2</div>"
      ]
    },
    {
      "metadata": {
        "id": "5Icb9xl6D-TS",
        "colab_type": "code",
        "colab": {}
      },
      "cell_type": "code",
      "source": [
        "def dft(x):\n",
        "    '''\n",
        "    :param data: numpy.ndarray\n",
        "    :return: numpy.ndarray\n",
        "    ''' \n",
        "    x = np.asarray(x, dtype=float)\n",
        "    N = x.shape[0]\n",
        "    n = np.arange(N)\n",
        "    k = n.reshape((N, 1))\n",
        "    M = np.exp(-2j * np.pi * k * n / N)\n",
        "    return np.dot(M, x)"
      ],
      "execution_count": 0,
      "outputs": []
    },
    {
      "metadata": {
        "id": "S27pOJbTD-TU",
        "colab_type": "code",
        "colab": {
          "base_uri": "https://localhost:8080/",
          "height": 50
        },
        "outputId": "41c35dbd-7640-4db9-d5f2-6924c2edfe65"
      },
      "cell_type": "code",
      "source": [
        "np.random.seed(42)\n",
        "print('Result:', dft(np.random.random(5)))"
      ],
      "execution_count": 9,
      "outputs": [
        {
          "output_type": "stream",
          "text": [
            "Result: [ 2.81192549+0.j         -0.35998102-0.83417311j -0.10963143-0.34030084j\n",
            " -0.10963143+0.34030084j -0.35998102+0.83417311j]\n"
          ],
          "name": "stdout"
        }
      ]
    },
    {
      "metadata": {
        "id": "Eco4gPCSD-TX",
        "colab_type": "text"
      },
      "cell_type": "markdown",
      "source": [
        "Expected Output: \n",
        "<table>\n",
        "  <tr>\n",
        "    <td>Result:</td>\n",
        "    <td> [ 2.81192549+0.j         -0.35998102-0.83417311j -0.10963143-0.34030084j\n",
        " -0.10963143+0.34030084j -0.35998102+0.83417311j]"
      ]
    },
    {
      "metadata": {
        "id": "BvK4NcfmR3Gz",
        "colab_type": "text"
      },
      "cell_type": "markdown",
      "source": [
        "## Pandas"
      ]
    },
    {
      "metadata": {
        "id": "3cU4KJh-D-TZ",
        "colab_type": "code",
        "colab": {}
      },
      "cell_type": "code",
      "source": [
        "import pandas as pd"
      ],
      "execution_count": 0,
      "outputs": []
    },
    {
      "metadata": {
        "id": "j-kA3MSbR3G1",
        "colab_type": "text"
      },
      "cell_type": "markdown",
      "source": [
        "**8. Consider the following dictionary \"data\" and list \"labels\":**"
      ]
    },
    {
      "metadata": {
        "id": "kfKY3UjjR3G3",
        "colab_type": "code",
        "colab": {}
      },
      "cell_type": "code",
      "source": [
        "data = {'animal': ['cat', 'cat', 'dog', 'dog', 'cat', 'cat', 'dog', 'cat', 'dog', 'dog'],\n",
        "        'age': [2.5, 1, 0.5, np.nan, 5, 2, 3.5, np.nan, 7, 3],\n",
        "        'weight': [1, 3, 6, 8, 4, 3, 10, 2, 7, 3],\n",
        "        'priority': ['yes', 'yes', 'no', 'yes', 'no', 'no', 'no', 'yes', 'no', 'no']}\n",
        "\n",
        "labels = ['a', 'b', 'c', 'd', 'e', 'f', 'g', 'h', 'i', 'j']"
      ],
      "execution_count": 0,
      "outputs": []
    },
    {
      "metadata": {
        "id": "e7PBxum0R3G5",
        "colab_type": "text"
      },
      "cell_type": "markdown",
      "source": [
        "** 8.1 Implement function repl_nan(data, labels) which creates a dataframe from dictionary  \"data\" with indexes from the list \"labels\" (indexes column must be unnamed), replaces the values \"nan\" in the age field by the (mean age + std) depending on the animal's type and returns a new dataframe.**\n",
        "<div style=\"text-align: right\">DRP reward: 1</div>"
      ]
    },
    {
      "metadata": {
        "id": "2XGRUD1eR3G6",
        "colab_type": "code",
        "colab": {}
      },
      "cell_type": "code",
      "source": [
        "import pandas as pd\n",
        "def repl_nan(data, labels):    \n",
        "    '''\n",
        "    :param data: dict\n",
        "    :param labels: list[str]\n",
        "    :return: pandas.core.frame.DataFrame \n",
        "    ''' \n",
        "    frame = pd.DataFrame(data, index=labels)\n",
        "    frame.age = frame.groupby('animal')['age'].apply(lambda x: x.fillna(x.mean()+x.std()))\n",
        "    return frame"
      ],
      "execution_count": 0,
      "outputs": []
    },
    {
      "metadata": {
        "id": "2vLCtuyTD-Th",
        "colab_type": "code",
        "colab": {
          "base_uri": "https://localhost:8080/",
          "height": 343
        },
        "outputId": "7cb94b0d-9e61-4ca5-c49f-84cd4518499c"
      },
      "cell_type": "code",
      "source": [
        "repl_nan(data, labels)"
      ],
      "execution_count": 15,
      "outputs": [
        {
          "output_type": "execute_result",
          "data": {
            "text/html": [
              "<div>\n",
              "<style scoped>\n",
              "    .dataframe tbody tr th:only-of-type {\n",
              "        vertical-align: middle;\n",
              "    }\n",
              "\n",
              "    .dataframe tbody tr th {\n",
              "        vertical-align: top;\n",
              "    }\n",
              "\n",
              "    .dataframe thead th {\n",
              "        text-align: right;\n",
              "    }\n",
              "</style>\n",
              "<table border=\"1\" class=\"dataframe\">\n",
              "  <thead>\n",
              "    <tr style=\"text-align: right;\">\n",
              "      <th></th>\n",
              "      <th>age</th>\n",
              "      <th>animal</th>\n",
              "      <th>priority</th>\n",
              "      <th>weight</th>\n",
              "    </tr>\n",
              "  </thead>\n",
              "  <tbody>\n",
              "    <tr>\n",
              "      <th>a</th>\n",
              "      <td>2.500000</td>\n",
              "      <td>cat</td>\n",
              "      <td>yes</td>\n",
              "      <td>1</td>\n",
              "    </tr>\n",
              "    <tr>\n",
              "      <th>b</th>\n",
              "      <td>1.000000</td>\n",
              "      <td>cat</td>\n",
              "      <td>yes</td>\n",
              "      <td>3</td>\n",
              "    </tr>\n",
              "    <tr>\n",
              "      <th>c</th>\n",
              "      <td>0.500000</td>\n",
              "      <td>dog</td>\n",
              "      <td>no</td>\n",
              "      <td>6</td>\n",
              "    </tr>\n",
              "    <tr>\n",
              "      <th>d</th>\n",
              "      <td>6.177063</td>\n",
              "      <td>dog</td>\n",
              "      <td>yes</td>\n",
              "      <td>8</td>\n",
              "    </tr>\n",
              "    <tr>\n",
              "      <th>e</th>\n",
              "      <td>5.000000</td>\n",
              "      <td>cat</td>\n",
              "      <td>no</td>\n",
              "      <td>4</td>\n",
              "    </tr>\n",
              "    <tr>\n",
              "      <th>f</th>\n",
              "      <td>2.000000</td>\n",
              "      <td>cat</td>\n",
              "      <td>no</td>\n",
              "      <td>3</td>\n",
              "    </tr>\n",
              "    <tr>\n",
              "      <th>g</th>\n",
              "      <td>3.500000</td>\n",
              "      <td>dog</td>\n",
              "      <td>no</td>\n",
              "      <td>10</td>\n",
              "    </tr>\n",
              "    <tr>\n",
              "      <th>h</th>\n",
              "      <td>4.326715</td>\n",
              "      <td>cat</td>\n",
              "      <td>yes</td>\n",
              "      <td>2</td>\n",
              "    </tr>\n",
              "    <tr>\n",
              "      <th>i</th>\n",
              "      <td>7.000000</td>\n",
              "      <td>dog</td>\n",
              "      <td>no</td>\n",
              "      <td>7</td>\n",
              "    </tr>\n",
              "    <tr>\n",
              "      <th>j</th>\n",
              "      <td>3.000000</td>\n",
              "      <td>dog</td>\n",
              "      <td>no</td>\n",
              "      <td>3</td>\n",
              "    </tr>\n",
              "  </tbody>\n",
              "</table>\n",
              "</div>"
            ],
            "text/plain": [
              "        age animal priority  weight\n",
              "a  2.500000    cat      yes       1\n",
              "b  1.000000    cat      yes       3\n",
              "c  0.500000    dog       no       6\n",
              "d  6.177063    dog      yes       8\n",
              "e  5.000000    cat       no       4\n",
              "f  2.000000    cat       no       3\n",
              "g  3.500000    dog       no      10\n",
              "h  4.326715    cat      yes       2\n",
              "i  7.000000    dog       no       7\n",
              "j  3.000000    dog       no       3"
            ]
          },
          "metadata": {
            "tags": []
          },
          "execution_count": 15
        }
      ]
    },
    {
      "metadata": {
        "id": "IZRiH5FsD-Tk",
        "colab_type": "text"
      },
      "cell_type": "markdown",
      "source": [
        "Expected Output: \n",
        "\n",
        "|  | age | animal                    | priority | weight       | \n",
        "|----|-------------------------|----------|------------|------------------------------------------------|--------------------------------------------------------|--------------|-----------------------|\n",
        "| **a**  | 2.500000 | cat      | yes | 1|\n",
        "| **b** | 1.000000  | cat      | yes | 3|\n",
        "| **c** | 0.500000  | dog      | no | 6|\n",
        "| **d** | 6.177063  | dog      | yes | 8|\n",
        "| **e** | 5.000000  | cat      | no | 4|\n",
        "| **f** | 2.000000  | cat      | no | 3|\n",
        "| **g** | 3.500000  | dog      | no | 10|\n",
        "| **h** | 4.326715  | cat      | yes | 2|\n",
        "| **i** | 7.000000  | dog      | no |7|\n",
        "| **j** | 3.000000  | dog      | no | 3|"
      ]
    },
    {
      "metadata": {
        "id": "9yoQOppBR3G8",
        "colab_type": "text"
      },
      "cell_type": "markdown",
      "source": [
        "** 8.2 Implement function big_dogs(data, labels) which creates a dataframe from dictionary \"data\" with indexes from the list \"labels\"  (indexes column must be unnamed) and returns dataframe with data about dogs with weight > 5.**\n",
        "<div style=\"text-align: right\">DRP reward: 1</div>"
      ]
    },
    {
      "metadata": {
        "id": "SoemQwuBR3G9",
        "colab_type": "code",
        "colab": {}
      },
      "cell_type": "code",
      "source": [
        "def big_dogs(data, labels):    \n",
        "    '''\n",
        "    :param data: dict\n",
        "    :param labels: list[str]\n",
        "    :return: pandas.core.frame.DataFrame \n",
        "    ''' \n",
        "    frame = pd.DataFrame(data, index=labels)\n",
        "    return frame.loc[frame['animal'] == 'dog'].loc[frame['weight']>5]"
      ],
      "execution_count": 0,
      "outputs": []
    },
    {
      "metadata": {
        "id": "sZFny8_HD-Tq",
        "colab_type": "code",
        "colab": {
          "base_uri": "https://localhost:8080/",
          "height": 166
        },
        "outputId": "9a213376-275c-4a03-b63b-e83a5f181dc6"
      },
      "cell_type": "code",
      "source": [
        "big_dogs(data, labels)"
      ],
      "execution_count": 17,
      "outputs": [
        {
          "output_type": "execute_result",
          "data": {
            "text/html": [
              "<div>\n",
              "<style scoped>\n",
              "    .dataframe tbody tr th:only-of-type {\n",
              "        vertical-align: middle;\n",
              "    }\n",
              "\n",
              "    .dataframe tbody tr th {\n",
              "        vertical-align: top;\n",
              "    }\n",
              "\n",
              "    .dataframe thead th {\n",
              "        text-align: right;\n",
              "    }\n",
              "</style>\n",
              "<table border=\"1\" class=\"dataframe\">\n",
              "  <thead>\n",
              "    <tr style=\"text-align: right;\">\n",
              "      <th></th>\n",
              "      <th>age</th>\n",
              "      <th>animal</th>\n",
              "      <th>priority</th>\n",
              "      <th>weight</th>\n",
              "    </tr>\n",
              "  </thead>\n",
              "  <tbody>\n",
              "    <tr>\n",
              "      <th>c</th>\n",
              "      <td>0.5</td>\n",
              "      <td>dog</td>\n",
              "      <td>no</td>\n",
              "      <td>6</td>\n",
              "    </tr>\n",
              "    <tr>\n",
              "      <th>d</th>\n",
              "      <td>NaN</td>\n",
              "      <td>dog</td>\n",
              "      <td>yes</td>\n",
              "      <td>8</td>\n",
              "    </tr>\n",
              "    <tr>\n",
              "      <th>g</th>\n",
              "      <td>3.5</td>\n",
              "      <td>dog</td>\n",
              "      <td>no</td>\n",
              "      <td>10</td>\n",
              "    </tr>\n",
              "    <tr>\n",
              "      <th>i</th>\n",
              "      <td>7.0</td>\n",
              "      <td>dog</td>\n",
              "      <td>no</td>\n",
              "      <td>7</td>\n",
              "    </tr>\n",
              "  </tbody>\n",
              "</table>\n",
              "</div>"
            ],
            "text/plain": [
              "   age animal priority  weight\n",
              "c  0.5    dog       no       6\n",
              "d  NaN    dog      yes       8\n",
              "g  3.5    dog       no      10\n",
              "i  7.0    dog       no       7"
            ]
          },
          "metadata": {
            "tags": []
          },
          "execution_count": 17
        }
      ]
    },
    {
      "metadata": {
        "id": "DX7CU8OoD-Tu",
        "colab_type": "text"
      },
      "cell_type": "markdown",
      "source": [
        "Expected Output: \n",
        "\n",
        "|  | age | animal                    | priority | weight       | \n",
        "|----|-------------------------|----------|------------|------------------------------------------------|--------------------------------------------------------|--------------|-----------------------|\n",
        "| **c** | 0.5  | dog      | no | 6|\n",
        "| **d** | NaN  | dog      | yes | 8|\n",
        "| **g** | 3.5  | dog      | no | 10|\n",
        "| **i** | 7.0  | dog      | no |7|"
      ]
    },
    {
      "metadata": {
        "id": "B_4R_T28R3G_",
        "colab_type": "text"
      },
      "cell_type": "markdown",
      "source": [
        "** 8.3  Implement function sorted_df(data, labels) which creates a dataframe from dictionary \"data\" with indexes from the list \"labels\"  (indexes column must be unnamed) which returns dataframe sorted  firstly by age in a ascending order, secondly, for the number of weight in decreasing order.**\n",
        "<div style=\"text-align: right\">DRP reward: 1</div>"
      ]
    },
    {
      "metadata": {
        "id": "qhZpj6SKR3HB",
        "colab_type": "code",
        "colab": {}
      },
      "cell_type": "code",
      "source": [
        "def sorted_df(data, labels):\n",
        "    '''\n",
        "    :param data: dict\n",
        "    :param labels: list[str]\n",
        "    :return: pandas.core.frame.DataFrame \n",
        "    ''' \n",
        "    frame = pd.DataFrame(data, index=labels).sort_values(by='weight', ascending=False).sort_values(by='age', ascending=True)\n",
        "    return frame"
      ],
      "execution_count": 0,
      "outputs": []
    },
    {
      "metadata": {
        "id": "NOP4oCvND-T2",
        "colab_type": "code",
        "colab": {
          "base_uri": "https://localhost:8080/",
          "height": 343
        },
        "outputId": "41693ef0-7c4b-4973-b01e-3ce4d7a33b5a"
      },
      "cell_type": "code",
      "source": [
        "sorted_df(data, labels)"
      ],
      "execution_count": 19,
      "outputs": [
        {
          "output_type": "execute_result",
          "data": {
            "text/html": [
              "<div>\n",
              "<style scoped>\n",
              "    .dataframe tbody tr th:only-of-type {\n",
              "        vertical-align: middle;\n",
              "    }\n",
              "\n",
              "    .dataframe tbody tr th {\n",
              "        vertical-align: top;\n",
              "    }\n",
              "\n",
              "    .dataframe thead th {\n",
              "        text-align: right;\n",
              "    }\n",
              "</style>\n",
              "<table border=\"1\" class=\"dataframe\">\n",
              "  <thead>\n",
              "    <tr style=\"text-align: right;\">\n",
              "      <th></th>\n",
              "      <th>age</th>\n",
              "      <th>animal</th>\n",
              "      <th>priority</th>\n",
              "      <th>weight</th>\n",
              "    </tr>\n",
              "  </thead>\n",
              "  <tbody>\n",
              "    <tr>\n",
              "      <th>c</th>\n",
              "      <td>0.5</td>\n",
              "      <td>dog</td>\n",
              "      <td>no</td>\n",
              "      <td>6</td>\n",
              "    </tr>\n",
              "    <tr>\n",
              "      <th>b</th>\n",
              "      <td>1.0</td>\n",
              "      <td>cat</td>\n",
              "      <td>yes</td>\n",
              "      <td>3</td>\n",
              "    </tr>\n",
              "    <tr>\n",
              "      <th>f</th>\n",
              "      <td>2.0</td>\n",
              "      <td>cat</td>\n",
              "      <td>no</td>\n",
              "      <td>3</td>\n",
              "    </tr>\n",
              "    <tr>\n",
              "      <th>a</th>\n",
              "      <td>2.5</td>\n",
              "      <td>cat</td>\n",
              "      <td>yes</td>\n",
              "      <td>1</td>\n",
              "    </tr>\n",
              "    <tr>\n",
              "      <th>j</th>\n",
              "      <td>3.0</td>\n",
              "      <td>dog</td>\n",
              "      <td>no</td>\n",
              "      <td>3</td>\n",
              "    </tr>\n",
              "    <tr>\n",
              "      <th>g</th>\n",
              "      <td>3.5</td>\n",
              "      <td>dog</td>\n",
              "      <td>no</td>\n",
              "      <td>10</td>\n",
              "    </tr>\n",
              "    <tr>\n",
              "      <th>e</th>\n",
              "      <td>5.0</td>\n",
              "      <td>cat</td>\n",
              "      <td>no</td>\n",
              "      <td>4</td>\n",
              "    </tr>\n",
              "    <tr>\n",
              "      <th>i</th>\n",
              "      <td>7.0</td>\n",
              "      <td>dog</td>\n",
              "      <td>no</td>\n",
              "      <td>7</td>\n",
              "    </tr>\n",
              "    <tr>\n",
              "      <th>d</th>\n",
              "      <td>NaN</td>\n",
              "      <td>dog</td>\n",
              "      <td>yes</td>\n",
              "      <td>8</td>\n",
              "    </tr>\n",
              "    <tr>\n",
              "      <th>h</th>\n",
              "      <td>NaN</td>\n",
              "      <td>cat</td>\n",
              "      <td>yes</td>\n",
              "      <td>2</td>\n",
              "    </tr>\n",
              "  </tbody>\n",
              "</table>\n",
              "</div>"
            ],
            "text/plain": [
              "   age animal priority  weight\n",
              "c  0.5    dog       no       6\n",
              "b  1.0    cat      yes       3\n",
              "f  2.0    cat       no       3\n",
              "a  2.5    cat      yes       1\n",
              "j  3.0    dog       no       3\n",
              "g  3.5    dog       no      10\n",
              "e  5.0    cat       no       4\n",
              "i  7.0    dog       no       7\n",
              "d  NaN    dog      yes       8\n",
              "h  NaN    cat      yes       2"
            ]
          },
          "metadata": {
            "tags": []
          },
          "execution_count": 19
        }
      ]
    },
    {
      "metadata": {
        "id": "MlHV_IUJD-T9",
        "colab_type": "text"
      },
      "cell_type": "markdown",
      "source": [
        "Expected Output: \n",
        "\n",
        "|  | age | animal                    | priority | weight       | \n",
        "|----|-------------------------|----------|------------|------------------------------------------------|--------------------------------------------------------|--------------|-----------------------|\n",
        "| **c** | 0.5  | dog      | no | 6|\n",
        "| **b** | 1.0  | cat      | yes | 3|\n",
        "| **f** | 2.0  | cat      | no | 3|\n",
        "| **a**  | 2.5 | cat      | yes | 1|\n",
        "| **j** | 3.0  | dog      | no | 3|\n",
        "| **g** | 3.5  | dog      | no | 10|\n",
        "| **e** | 5.0  | cat      | no | 4|\n",
        "| **i** | 7.0  | dog      | no |7|\n",
        "| **d** | NaN  | dog      | yes | 8|\n",
        "| **h** | NaN  | cat      | yes | 2|\n",
        "\n"
      ]
    },
    {
      "metadata": {
        "id": "O-ROrnA7R3HD",
        "colab_type": "text"
      },
      "cell_type": "markdown",
      "source": [
        "** 8.4 Implement function weight_to_type(data, labels) which creates a dataframe from dictionary \"data\" with indexes from the list \"labels\"  (indexes column must be unnamed), calculates average weight of each animal type and returns dictionary with these values, where keys are animal types and values are animal weights.**\n",
        "<div style=\"text-align: right\">DRP reward: 1</div>"
      ]
    },
    {
      "metadata": {
        "id": "EycFJTjTR3HE",
        "colab_type": "code",
        "colab": {}
      },
      "cell_type": "code",
      "source": [
        "def weight_to_type(data, labels):    \n",
        "    '''\n",
        "    :param data: dict\n",
        "    :param labels: list[str]\n",
        "    :return: dict\n",
        "    ''' \n",
        "    frame = pd.DataFrame(data, index=labels)\n",
        "    return frame.groupby('animal')['weight'].mean().to_dict()"
      ],
      "execution_count": 0,
      "outputs": []
    },
    {
      "metadata": {
        "id": "bW3qErBnD-UB",
        "colab_type": "code",
        "colab": {
          "base_uri": "https://localhost:8080/",
          "height": 34
        },
        "outputId": "8ff6cc47-14f7-4f3c-99b2-18a287b2422e"
      },
      "cell_type": "code",
      "source": [
        "print(weight_to_type(data, labels))"
      ],
      "execution_count": 21,
      "outputs": [
        {
          "output_type": "stream",
          "text": [
            "{'cat': 2.6, 'dog': 6.8}\n"
          ],
          "name": "stdout"
        }
      ]
    },
    {
      "metadata": {
        "id": "N5kXugVID-UD",
        "colab_type": "text"
      },
      "cell_type": "markdown",
      "source": [
        "Expected Output: \n",
        "<table>\n",
        "  <tr>\n",
        "    <td>weight_to_type:</td>\n",
        "    <td> {'cat': 2.6, 'dog': 6.8} </td> \n",
        "  </tr>"
      ]
    },
    {
      "metadata": {
        "id": "rdH-kR4-D-UE",
        "colab_type": "text"
      },
      "cell_type": "markdown",
      "source": [
        "## Scipy"
      ]
    },
    {
      "metadata": {
        "id": "0XHP1aA3D-UF",
        "colab_type": "code",
        "colab": {}
      },
      "cell_type": "code",
      "source": [
        "import scipy"
      ],
      "execution_count": 0,
      "outputs": []
    },
    {
      "metadata": {
        "id": "M0Ktyi8kR3HG",
        "colab_type": "text"
      },
      "cell_type": "markdown",
      "source": [
        "** 9. The equation of motion for the damped oscillator is:**\n",
        "\n",
        "\n",
        "\n",
        "<div style=\"text-align: center\">$\\frac{d^{2}x}{dt^2}+2\\varepsilon \\omega _{0}\\frac{dx}{dt}+\\omega_ {0}^{2}x = 0$</div>\n",
        "\n",
        "where $x$ is the position of the oscillator, $\\omega_0$ is the frequency, and $\\zeta$ is the damping ratio.\n",
        "\n",
        "To write this second-order ODE on standard form we introduce $p$ = dx/dt:\n",
        "\n",
        "<div style=\"text-align: center\">$\\frac{dp}{dt} = -2\\varepsilon \\omega _{0}p - \\omega_ {0}^{2}x$</div>\n",
        "\n",
        "<div style=\"text-align: center\">$\\frac{dx}{dt} = p$</div>\n",
        "\n",
        "Implement function over_damped() which solves the ODE for damped oscillation with $\\zeta$ = 5 and returns array of y coordinates, depending on t.\n",
        "<div style=\"text-align: right\">DRP reward: 2</div>"
      ]
    },
    {
      "metadata": {
        "id": "W5Wvwvr0R3HI",
        "colab_type": "code",
        "colab": {}
      },
      "cell_type": "code",
      "source": [
        "def over_damped(y0, t):\n",
        "    '''\n",
        "    :param y0: list, initial state \n",
        "    :param t: array, time coodinate to solve the ODE for\n",
        "    :return: numpy.ndarray of shape (10, )\n",
        "    '''\n",
        "    # frequency:\n",
        "    y0 = [1.0, 0.0] \n",
        "    # time coodinate to solve the ODE for:\n",
        "    t = np.linspace(0, 10, 10)\n",
        "    # frequency:\n",
        "    w0 = 2.0 * math.pi\n",
        "    zeta = 5\n",
        "    def dy(y, t, zeta, w0):\n",
        "      \"\"\"\n",
        "      The right-hand side of the damped oscillator ODE\n",
        "      \"\"\"\n",
        "      x, p = y[0], y[1]\n",
        "      dx = p\n",
        "      dp = -2 * zeta * w0 * p - w0**2 * x\n",
        "      return [dx, dp]\n",
        "    return odeint(dy, y0, t, args=(zeta, w0))[:,0]\n",
        "    "
      ],
      "execution_count": 0,
      "outputs": []
    },
    {
      "metadata": {
        "id": "GFOTVRMJD-UK",
        "colab_type": "code",
        "colab": {
          "base_uri": "https://localhost:8080/",
          "height": 195
        },
        "outputId": "51c5ec31-cb18-4c3d-b9fa-5c5190650cf4"
      },
      "cell_type": "code",
      "source": [
        "y0 = [2.0, 0.0] \n",
        "t = np.linspace(0, 5, 5)\n",
        "\n",
        "print(over_damped(y0, t))"
      ],
      "execution_count": 77,
      "outputs": [
        {
          "output_type": "error",
          "ename": "TypeError",
          "evalue": "ignored",
          "traceback": [
            "\u001b[0;31m---------------------------------------------------------------------------\u001b[0m",
            "\u001b[0;31mTypeError\u001b[0m                                 Traceback (most recent call last)",
            "\u001b[0;32m<ipython-input-77-12a880695fd4>\u001b[0m in \u001b[0;36m<module>\u001b[0;34m()\u001b[0m\n\u001b[1;32m      2\u001b[0m \u001b[0mt\u001b[0m \u001b[0;34m=\u001b[0m \u001b[0mnp\u001b[0m\u001b[0;34m.\u001b[0m\u001b[0mlinspace\u001b[0m\u001b[0;34m(\u001b[0m\u001b[0;36m0\u001b[0m\u001b[0;34m,\u001b[0m \u001b[0;36m5\u001b[0m\u001b[0;34m,\u001b[0m \u001b[0;36m5\u001b[0m\u001b[0;34m)\u001b[0m\u001b[0;34m\u001b[0m\u001b[0m\n\u001b[1;32m      3\u001b[0m \u001b[0;34m\u001b[0m\u001b[0m\n\u001b[0;32m----> 4\u001b[0;31m \u001b[0mprint\u001b[0m\u001b[0;34m(\u001b[0m\u001b[0mover_damped\u001b[0m\u001b[0;34m(\u001b[0m\u001b[0my0\u001b[0m\u001b[0;34m,\u001b[0m \u001b[0mt\u001b[0m\u001b[0;34m)\u001b[0m\u001b[0;34m)\u001b[0m\u001b[0;34m\u001b[0m\u001b[0m\n\u001b[0m",
            "\u001b[0;31mTypeError\u001b[0m: over_damped() takes 0 positional arguments but 2 were given"
          ]
        }
      ]
    },
    {
      "metadata": {
        "id": "7D4NhKQVD-UM",
        "colab_type": "text"
      },
      "cell_type": "markdown",
      "source": [
        "Expected Output: \n",
        "<table>\n",
        "  <tr>\n",
        "    <td>over_damped:</td>\n",
        "    <td> [ 2.          0.91392352  0.41336618  0.18696489  0.08456395] </td> \n",
        "  </tr>"
      ]
    }
  ]
}