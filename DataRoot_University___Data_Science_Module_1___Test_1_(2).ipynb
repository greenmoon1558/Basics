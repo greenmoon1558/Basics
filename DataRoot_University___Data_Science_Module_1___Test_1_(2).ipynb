{
  "nbformat": 4,
  "nbformat_minor": 0,
  "metadata": {
    "colab": {
      "name": "DataRoot University  _ Data Science Module 1 _ Test 1 (2).ipynb",
      "version": "0.3.2",
      "provenance": [],
      "collapsed_sections": [],
      "include_colab_link": true
    },
    "kernelspec": {
      "display_name": "Python 3",
      "language": "python",
      "name": "python3"
    }
  },
  "cells": [
    {
      "cell_type": "markdown",
      "metadata": {
        "id": "view-in-github",
        "colab_type": "text"
      },
      "source": [
        "[View in Colaboratory](https://colab.research.google.com/github/greenmoon1558/Basics/blob/master/DataRoot_University___Data_Science_Module_1___Test_1_(2).ipynb)"
      ]
    },
    {
      "metadata": {
        "id": "_Q4xa6bwjPMb",
        "colab_type": "text"
      },
      "cell_type": "markdown",
      "source": [
        "## Requirements:\n",
        "\n",
        ">  Python 3.6.4\n",
        "\n",
        ">  numpy 1.14.0\n",
        "\n",
        ">  scipy 1.0.0\n",
        "\n",
        ">  pandas 0.22.0\n"
      ]
    },
    {
      "metadata": {
        "id": "KOP7kgV5PSl2",
        "colab_type": "text"
      },
      "cell_type": "markdown",
      "source": [
        "# Python and algorithms"
      ]
    },
    {
      "metadata": {
        "id": "0R6uyhNyjPMc",
        "colab_type": "text"
      },
      "cell_type": "markdown",
      "source": [
        "##### Сomplete this part of test without using any libs (your code must not contain keyword 'import')"
      ]
    },
    {
      "metadata": {
        "id": "GC_iufBgjPMd",
        "colab_type": "text"
      },
      "cell_type": "markdown",
      "source": [
        "#### 1. Implement function str_to_dict(some_str) which returnes dictionary, where keys are string characters, and values are their quantity in the string:\n",
        "\n",
        "<div style=\"text-align: right\">DRP reward: 2</div>"
      ]
    },
    {
      "metadata": {
        "id": "DDou3xupjPMe",
        "colab_type": "code",
        "colab": {}
      },
      "cell_type": "code",
      "source": [
        "def str_to_dict(some_str):  \n",
        "    \"\"\"\n",
        "    :param some_str: str\n",
        "    :return: dict\n",
        "    \"\"\"\n",
        "    return {value: some_str.count(value) for value in some_str }"
      ],
      "execution_count": 0,
      "outputs": []
    },
    {
      "metadata": {
        "id": "6Wr675s5K4qO",
        "colab_type": "code",
        "colab": {
          "base_uri": "https://localhost:8080/",
          "height": 34
        },
        "outputId": "99607b48-f268-467b-9663-911e551581d8"
      },
      "cell_type": "code",
      "source": [
        "print('Str to dict:', str_to_dict('dataroot_university'))"
      ],
      "execution_count": 8,
      "outputs": [
        {
          "output_type": "stream",
          "text": [
            "Str to dict: {'d': 1, 'a': 2, 't': 3, 'r': 2, 'o': 2, '_': 1, 'u': 1, 'n': 1, 'i': 2, 'v': 1, 'e': 1, 's': 1, 'y': 1}\n"
          ],
          "name": "stdout"
        }
      ]
    },
    {
      "metadata": {
        "id": "ZyrSt8ocK4qR",
        "colab_type": "text"
      },
      "cell_type": "markdown",
      "source": [
        "Expected Output: \n",
        "<table>\n",
        "  <tr>\n",
        "    <td>Str to dict:</td>\n",
        "    <td> {'d': 1, 'a': 2, 't': 3, 'r': 2, 'o': 2, '_': 1, 'u': 1, 'n': 1, 'i': 2, 'v': 1, 'e': 1, 's': 1, 'y': 1} </td> \n",
        "  </tr>"
      ]
    },
    {
      "metadata": {
        "id": "ELtxJQQLjPMi",
        "colab_type": "text"
      },
      "cell_type": "markdown",
      "source": [
        "#### 2. Implement function sec_smallest(numbers) which returns second smallest item in the list, without using the built-in sorting methods (your code mustn't contain such words as 'sort', 'sorted'):\n",
        "\n",
        "<div style=\"text-align: right\">DRP reward: 2\n",
        "  "
      ]
    },
    {
      "metadata": {
        "id": "yJVJiK9jjPMj",
        "colab_type": "code",
        "colab": {}
      },
      "cell_type": "code",
      "source": [
        "def sec_smallest(numbers):\n",
        "    \"\"\"\n",
        "    :param numbers: list[int]\n",
        "    :return: int    \n",
        "    \"\"\"\n",
        "    arr_with_min_values = [x for x in numbers[0:2]]\n",
        "    if arr_with_min_values[0]>arr_with_min_values[1]:\n",
        "        arr_with_min_values = arr_with_min_values[1:0:-1]\n",
        "    for number in numbers[2:]:\n",
        "        for index, min in enumerate(arr_with_min_values):\n",
        "            if not number in arr_with_min_values and number<min:\n",
        "                arr_with_min_values[index] = number\n",
        "                break\n",
        "    return arr_with_min_values[1]"
      ],
      "execution_count": 0,
      "outputs": []
    },
    {
      "metadata": {
        "id": "R6WU-DuzK4qV",
        "colab_type": "code",
        "colab": {
          "base_uri": "https://localhost:8080/",
          "height": 34
        },
        "outputId": "4add9b76-897a-4161-9606-8f3b1b694a9b"
      },
      "cell_type": "code",
      "source": [
        "print('Sec_smallest:', sec_smallest([1, 2, -8, -8, -2, 0]))"
      ],
      "execution_count": 12,
      "outputs": [
        {
          "output_type": "stream",
          "text": [
            "Sec_smallest: -2\n"
          ],
          "name": "stdout"
        }
      ]
    },
    {
      "metadata": {
        "id": "2Qzh1oZqK4qY",
        "colab_type": "text"
      },
      "cell_type": "markdown",
      "source": [
        "Expected Output: \n",
        "<table>\n",
        "  <tr>\n",
        "    <td>Sec_smallest:</td>\n",
        "    <td> -2 </td> \n",
        "  </tr>"
      ]
    },
    {
      "metadata": {
        "id": "tzgLZ6VijPMo",
        "colab_type": "text"
      },
      "cell_type": "markdown",
      "source": [
        "#### 3. Implement function prime_nums(n) that returns list of numbers which  are simple and < n:\n",
        "\n",
        "<div style=\"text-align: right\">DRP reward: 2</div>"
      ]
    },
    {
      "metadata": {
        "id": "jvVD9N32jPMp",
        "colab_type": "code",
        "colab": {}
      },
      "cell_type": "code",
      "source": [
        "def prime_nums(n):\n",
        "    \"\"\"\n",
        "    :param n: int\n",
        "    :return: list[int]\n",
        "    \"\"\"\n",
        "    prime_nums_arr = []\n",
        "    for num in range(2, n):\n",
        "      is_prime = True\n",
        "      for i in range(2, int(n/2)): \n",
        "          if (num!=i) & (num%i == 0):\n",
        "            is_prime = False\n",
        "            break\n",
        "      if is_prime: prime_nums_arr.append(num)\n",
        "    return prime_nums_arr"
      ],
      "execution_count": 0,
      "outputs": []
    },
    {
      "metadata": {
        "id": "lgTyQbCxK4qc",
        "colab_type": "code",
        "colab": {
          "base_uri": "https://localhost:8080/",
          "height": 34
        },
        "outputId": "cc216b9c-f761-4623-9822-1eccde811aeb"
      },
      "cell_type": "code",
      "source": [
        "print('Prime numbers:', prime_nums(30))"
      ],
      "execution_count": 25,
      "outputs": [
        {
          "output_type": "stream",
          "text": [
            "Prime numbers: [2, 3, 5, 7, 11, 13, 17, 19, 23, 29]\n"
          ],
          "name": "stdout"
        }
      ]
    },
    {
      "metadata": {
        "id": "hXrYq3i2K4qe",
        "colab_type": "text"
      },
      "cell_type": "markdown",
      "source": [
        "Expected Output:\n",
        "<table>\n",
        "  <tr>\n",
        "    <td>Prime numbers:</td>\n",
        "    <td>[2, 3, 5, 7, 11, 13, 17, 19, 23, 29]</td>\n",
        "  </tr>"
      ]
    },
    {
      "metadata": {
        "id": "p96mEq8vjPMr",
        "colab_type": "text"
      },
      "cell_type": "markdown",
      "source": [
        "#### 4. Implement class Conv, that contains method to_roman(self, n), which converts decimal numbers to Roman numerals:\n",
        "\n",
        "<div style=\"text-align: right\">DRP reward: 2</div>"
      ]
    },
    {
      "metadata": {
        "id": "weYiaNWojPMs",
        "colab_type": "code",
        "colab": {}
      },
      "cell_type": "code",
      "source": [
        "class Conv:\n",
        "    def to_roman(self, num):    \n",
        "        \"\"\"\n",
        "        :param self:\n",
        "        :param n: int\n",
        "        :return: str    \n",
        "        \"\"\"\n",
        "        val = [\n",
        "            1000, 900, 500, 400,\n",
        "            100, 90, 50, 40,\n",
        "            10, 9, 5, 4, 1\n",
        "        ]\n",
        "\n",
        "        syb = [\n",
        "            'M', 'CM', 'D', 'CD',\n",
        "            'C', 'XC', 'L', 'XL',\n",
        "            'X', 'IX', 'V', 'IV',\n",
        "            'I'\n",
        "        ]\n",
        "        roman_number = \"\"\n",
        "        for index, currend_divider in enumerate(val):\n",
        "          roman_number += (num//currend_divider)*syb[index]\n",
        "          num = num-((num//currend_divider)*currend_divider)\n",
        "        return roman_number"
      ],
      "execution_count": 0,
      "outputs": []
    },
    {
      "metadata": {
        "id": "tIn8anfqK4qk",
        "colab_type": "code",
        "colab": {
          "base_uri": "https://localhost:8080/",
          "height": 34
        },
        "outputId": "1ea02a7c-4269-433b-c2f0-8f5b89110879"
      },
      "cell_type": "code",
      "source": [
        "print('Converted:', Conv().to_roman(44))"
      ],
      "execution_count": 39,
      "outputs": [
        {
          "output_type": "stream",
          "text": [
            "Converted: XLIV\n"
          ],
          "name": "stdout"
        }
      ]
    },
    {
      "metadata": {
        "id": "1gU1eVI0K4qm",
        "colab_type": "text"
      },
      "cell_type": "markdown",
      "source": [
        "Expected Output:\n",
        "<table>\n",
        "  <tr>\n",
        "    <td>Converted:</td>\n",
        "    <td>XLIV</td> \n",
        "  </tr>"
      ]
    },
    {
      "metadata": {
        "id": "kphmMZ7JjPMv",
        "colab_type": "text"
      },
      "cell_type": "markdown",
      "source": [
        "#### 5. Implement class MyList, that contains method get_combinations(self, my_list), which returns all combinations of elements of given list, including empty element and in order, law of which can be discrovered from the expected output:\n",
        "<div style=\"text-align: right\">DRP reward: 2</div>"
      ]
    },
    {
      "metadata": {
        "id": "YRLNrVppjPMw",
        "colab_type": "code",
        "colab": {}
      },
      "cell_type": "code",
      "source": [
        "class MyList:\n",
        "    def combinations(self, iterable, r):\n",
        "        pool = tuple(iterable)\n",
        "        n = len(pool)\n",
        "        if r > n:\n",
        "            return\n",
        "        indices = list(range(r))\n",
        "        yield tuple(pool[i] for i in indices)\n",
        "        while True:\n",
        "            for i in reversed(range(r)):\n",
        "                if indices[i] != i + n - r:\n",
        "                    break\n",
        "            else:\n",
        "                return\n",
        "            indices[i] += 1\n",
        "            for j in range(i+1, r):\n",
        "                indices[j] = indices[j-1] + 1\n",
        "            yield tuple(pool[i] for i in indices)\n",
        "            \n",
        "    def get_combinations(self, lst):        \n",
        "        combs = []\n",
        "        for i in range(0, len(lst)+1):\n",
        "            els = [list(x) for x in self. combinations(lst, i)]\n",
        "            combs.extend(els)\n",
        "        return combs"
      ],
      "execution_count": 0,
      "outputs": []
    },
    {
      "metadata": {
        "id": "MDEopSmMK4qr",
        "colab_type": "code",
        "colab": {
          "base_uri": "https://localhost:8080/",
          "height": 34
        },
        "outputId": "d0df69e7-60ff-4cf8-b140-663b37caebfa"
      },
      "cell_type": "code",
      "source": [
        "print('Combinations:', MyList().get_combinations([1, 2, 'a']))"
      ],
      "execution_count": 2,
      "outputs": [
        {
          "output_type": "stream",
          "text": [
            "Combinations: [[], [1], [2], ['a'], [1, 2], [1, 'a'], [2, 'a'], [1, 2, 'a']]\n"
          ],
          "name": "stdout"
        }
      ]
    },
    {
      "metadata": {
        "id": "N_GjKeKkK4qt",
        "colab_type": "text"
      },
      "cell_type": "markdown",
      "source": [
        "Expected Output:\n",
        "<table>\n",
        "  <tr>\n",
        "    <td>Combinations:</td>\n",
        "    <td>[[], [1], [2], ['a'], [1, 2], [1, 'a'], [2, 'a'], [1, 2, 'a']]</td> \n",
        "  </tr>"
      ]
    },
    {
      "metadata": {
        "id": "UZ8ZcO_vK4qv",
        "colab_type": "text"
      },
      "cell_type": "markdown",
      "source": [
        "# Libraries: numpy, scipy, pandas"
      ]
    },
    {
      "metadata": {
        "id": "tCWhw9wMK4qv",
        "colab_type": "text"
      },
      "cell_type": "markdown",
      "source": [
        "## Numpy"
      ]
    },
    {
      "metadata": {
        "id": "8tkCraygK4qx",
        "colab_type": "code",
        "colab": {}
      },
      "cell_type": "code",
      "source": [
        "import numpy as np"
      ],
      "execution_count": 0,
      "outputs": []
    },
    {
      "metadata": {
        "id": "zpJfOYJcjPM1",
        "colab_type": "text"
      },
      "cell_type": "markdown",
      "source": [
        "#### 6. Implement function func() which completes following task: the average weight of car is `m` kg, with a standard deviation of `s` kg. What part of all cars would you expect to have weight more than `k` kg (probability must be < 1)?\n",
        "<div style=\"text-align: right\">DRP reward: 2</div>"
      ]
    },
    {
      "metadata": {
        "id": "5Qwk1mgkjuBe",
        "colab_type": "text"
      },
      "cell_type": "markdown",
      "source": [
        ""
      ]
    },
    {
      "metadata": {
        "id": "-210pQUEjPM1",
        "colab_type": "code",
        "colab": {}
      },
      "cell_type": "code",
      "source": [
        "def func(m, s, k):   \n",
        "    \"\"\"\n",
        "    :param m: int\n",
        "    :param s: int\n",
        "    :param k: int\n",
        "    :return: float\n",
        "    \"\"\"\n",
        "    return 1-(m/k)"
      ],
      "execution_count": 0,
      "outputs": []
    },
    {
      "metadata": {
        "id": "Nzrjo2qGK4q7",
        "colab_type": "code",
        "colab": {
          "base_uri": "https://localhost:8080/",
          "height": 34
        },
        "outputId": "fa4b21c8-bbcd-4efc-c97b-2c5ae08029a8"
      },
      "cell_type": "code",
      "source": [
        "print('Result:', func(25, 3, 27))"
      ],
      "execution_count": 61,
      "outputs": [
        {
          "output_type": "stream",
          "text": [
            "Result: 0.07407407407407407\n"
          ],
          "name": "stdout"
        }
      ]
    },
    {
      "metadata": {
        "id": "7lCiRxCAK4q-",
        "colab_type": "text"
      },
      "cell_type": "markdown",
      "source": [
        "Expected Output:\n",
        "<table>\n",
        "  <tr>\n",
        "    <td>Result:</td>\n",
        "    <td>~0.2546</td> \n",
        "  </tr>"
      ]
    },
    {
      "metadata": {
        "id": "cXP-v9zRjPM5",
        "colab_type": "text"
      },
      "cell_type": "markdown",
      "source": [
        "#### 7. Implement function add_mean_and_calc_det(matrix), which adds to each element in the matrix row the mean of this row and returns the determinant(np.linalg.det) of the resulting matrix.\n",
        "\n",
        "<div style=\"text-align: right\">DRP reward: 2</div>"
      ]
    },
    {
      "metadata": {
        "id": "4_Hz6gEPjPM5",
        "colab_type": "code",
        "colab": {}
      },
      "cell_type": "code",
      "source": [
        "\n",
        "def add_mean_and_calc_det(matrix):\n",
        "    \"\"\"\n",
        "    :matrix: numpy.ndarray[list[list[int]]]\n",
        "    :return: numpy.float64\n",
        "    \"\"\"\n",
        "    average = 0;\n",
        "    for index, x in np.ndenumerate(matrix):\n",
        "      if index[1] == 0:\n",
        "        average = np.sum(matrix[index[0], :])/len(matrix[index[0], :])\n",
        "      matrix[index] += average\n",
        "    return np.linalg.det(matrix)"
      ],
      "execution_count": 0,
      "outputs": []
    },
    {
      "metadata": {
        "id": "8cEqj1lxK4rH",
        "colab_type": "code",
        "colab": {
          "base_uri": "https://localhost:8080/",
          "height": 34
        },
        "outputId": "7190df17-9af5-4d96-95a6-93c65a2714dd"
      },
      "cell_type": "code",
      "source": [
        "print('Result:', add_mean_and_calc_det(np.array([[5, 3, 4], [7, 9, 8], [6, 7, 8]])))"
      ],
      "execution_count": 100,
      "outputs": [
        {
          "output_type": "stream",
          "text": [
            "Result: 72.0\n"
          ],
          "name": "stdout"
        }
      ]
    },
    {
      "metadata": {
        "id": "KCK88ybPK4rN",
        "colab_type": "text"
      },
      "cell_type": "markdown",
      "source": [
        "Expected Output: \n",
        "<table>\n",
        "  <tr>\n",
        "    <td>Result:</td>\n",
        "    <td> 72 </td> \n",
        "  </tr>"
      ]
    },
    {
      "metadata": {
        "id": "FUAr1WPCjPM8",
        "colab_type": "text"
      },
      "cell_type": "markdown",
      "source": [
        "#### 8. Implement function nearest_to_scalar(matrix, n), which returns the closest to n number in the matrix.\n",
        "  \n",
        "<div style=\"text-align: right\">DRP reward: 2</div>"
      ]
    },
    {
      "metadata": {
        "id": "VLS3S8g-jPM9",
        "colab_type": "code",
        "colab": {}
      },
      "cell_type": "code",
      "source": [
        "import numpy as np\n",
        "def nearest_to_scalar(matrix, n):\n",
        "    \"\"\"\n",
        "    :param matrix: numpy.ndarray[list[list[int]]]\n",
        "    :param n: int\n",
        "    :return: int  \n",
        "    \"\"\"\n",
        "    currentResult = matrix[0,0]\n",
        "    for index, x in np.ndenumerate(matrix):\n",
        "      if (np.abs(currentResult-n) >= np.abs(x-n)):\n",
        "        currentResult = x\n",
        "    return currentResult"
      ],
      "execution_count": 0,
      "outputs": []
    },
    {
      "metadata": {
        "id": "1AX-_isFK4rR",
        "colab_type": "code",
        "colab": {
          "base_uri": "https://localhost:8080/",
          "height": 34
        },
        "outputId": "f0bb075c-3b0b-43c9-be21-212d957096cb"
      },
      "cell_type": "code",
      "source": [
        "print('Nearest:', nearest_to_scalar(np.array([[5, 3, 4], [7, 9, 8], [6, 7, 8]]), 11))"
      ],
      "execution_count": 130,
      "outputs": [
        {
          "output_type": "stream",
          "text": [
            "Nearest: 9\n"
          ],
          "name": "stdout"
        }
      ]
    },
    {
      "metadata": {
        "id": "g030B6o6K4rT",
        "colab_type": "text"
      },
      "cell_type": "markdown",
      "source": [
        "Expected Output:\n",
        "<table>\n",
        "  <tr>\n",
        "    <td>Nearest:</td>\n",
        "    <td> 9 </td> \n",
        "  </tr>"
      ]
    },
    {
      "metadata": {
        "id": "0z5-m5v_jPM_",
        "colab_type": "text"
      },
      "cell_type": "markdown",
      "source": [
        "#### 9. Implement function svd_ranks(Z) which performs SVD of given matrix and returns a list of ranks of matrices U, S and V.\n",
        "<div style=\"text-align: right\">DRP reward: 2</div>"
      ]
    },
    {
      "metadata": {
        "id": "8m-SG2hJjPNA",
        "colab_type": "code",
        "colab": {}
      },
      "cell_type": "code",
      "source": [
        "def svd_ranks(Z): \n",
        "    \"\"\"\n",
        "    :param Z: numpy.ndarray[list[list[int]]]\n",
        "    :return: list  \n",
        "    \"\"\"\n",
        "    u, s, v = np.linalg.svd(Z, full_matrices=True)\n",
        "    S = np.zeros(Z.shape, dtype=complex)\n",
        "    S[:s.shape[0], :s.shape[0]] = np.diag(s)\n",
        "    return [np.linalg.matrix_rank(u), np.linalg.matrix_rank(S), np.linalg.matrix_rank(v)]"
      ],
      "execution_count": 0,
      "outputs": []
    },
    {
      "metadata": {
        "id": "dzN4FIUjK4rY",
        "colab_type": "code",
        "colab": {
          "base_uri": "https://localhost:8080/",
          "height": 34
        },
        "outputId": "f8e00630-15b8-4a6f-c17c-b11d489e285d"
      },
      "cell_type": "code",
      "source": [
        "print('Svd ranks:',svd_ranks(np.arange(9).reshape((3,3))))"
      ],
      "execution_count": 21,
      "outputs": [
        {
          "output_type": "stream",
          "text": [
            "Svd ranks: [3, 2, 3]\n"
          ],
          "name": "stdout"
        }
      ]
    },
    {
      "metadata": {
        "id": "GYqVBztsK4ra",
        "colab_type": "text"
      },
      "cell_type": "markdown",
      "source": [
        "Expected Output: \n",
        "<table>\n",
        "  <tr>\n",
        "    <td>Svd ranks:</td>\n",
        "    <td> [3, 2, 3] </td> \n",
        "  </tr>"
      ]
    },
    {
      "metadata": {
        "id": "uu7HTYXBK4ra",
        "colab_type": "text"
      },
      "cell_type": "markdown",
      "source": [
        "#### 10. Implement function dft(x) which computes the discrete Fourier Transform of the 1D array x, without using numpy function np.fft.fft().\n",
        "<div style=\"text-align: right\">DRP reward: 2</div>"
      ]
    },
    {
      "metadata": {
        "id": "fxbNffP6K4rb",
        "colab_type": "code",
        "colab": {}
      },
      "cell_type": "code",
      "source": [
        "import numpy as np\n",
        "def dft(x):\n",
        "    \"\"\"\n",
        "    :param data: numpy.ndarray\n",
        "    :return: numpy.ndarray\n",
        "    \"\"\"\n",
        "    x = np.asarray(x, dtype=float)\n",
        "    N = x.shape[0]\n",
        "    n = np.arange(N)\n",
        "    k = n.reshape((N, 1))\n",
        "    M = np.exp(-2j * np.pi * k * n / N)\n",
        "    return np.dot(M, x)"
      ],
      "execution_count": 0,
      "outputs": []
    },
    {
      "metadata": {
        "id": "wUPNadRgK4re",
        "colab_type": "code",
        "colab": {
          "base_uri": "https://localhost:8080/",
          "height": 50
        },
        "outputId": "c357309f-5846-4fa9-c9d5-777c38a15222"
      },
      "cell_type": "code",
      "source": [
        "np.random.seed(42)\n",
        "print('Result:', dft(np.random.random(5)))"
      ],
      "execution_count": 24,
      "outputs": [
        {
          "output_type": "stream",
          "text": [
            "Result: [ 2.81192549+0.j         -0.35998102-0.83417311j -0.10963143-0.34030084j\n",
            " -0.10963143+0.34030084j -0.35998102+0.83417311j]\n"
          ],
          "name": "stdout"
        }
      ]
    },
    {
      "metadata": {
        "id": "0Ofq7FQ6K4rh",
        "colab_type": "text"
      },
      "cell_type": "markdown",
      "source": [
        "Expected Output: \n",
        "<table>\n",
        "  <tr>\n",
        "    <td>Result:</td>\n",
        "    <td> [ 2.81192549+0.j         -0.35998102-0.83417311j -0.10963143-0.34030084j\n",
        " -0.10963143+0.34030084j -0.35998102+0.83417311j]"
      ]
    },
    {
      "metadata": {
        "id": "8n9_CIzqjPNC",
        "colab_type": "text"
      },
      "cell_type": "markdown",
      "source": [
        "## Pandas"
      ]
    },
    {
      "metadata": {
        "id": "gz9RVT_uK4rj",
        "colab_type": "code",
        "colab": {}
      },
      "cell_type": "code",
      "source": [
        "import pandas as pd"
      ],
      "execution_count": 0,
      "outputs": []
    },
    {
      "metadata": {
        "id": "cV0BQjaGjPND",
        "colab_type": "text"
      },
      "cell_type": "markdown",
      "source": [
        "#### 11. Consider the following dictionary \"data\" and list \"labels\":"
      ]
    },
    {
      "metadata": {
        "id": "_C0MzBX8jPND",
        "colab_type": "code",
        "colab": {}
      },
      "cell_type": "code",
      "source": [
        "data = {'animal': ['cat', 'cat', 'dog', 'dog', 'cat', 'cat', 'dog', 'cat', 'dog', 'dog'],\n",
        "        'age': [2.5, 1, 0.5, np.nan, 5, 2, 3.5, np.nan, 7, 3],\n",
        "        'weight': [1, 3, 6, 8, 4, 3, 10, 2, 7, 3],\n",
        "        'priority': ['yes', 'yes', 'no', 'yes', 'no', 'no', 'no', 'yes', 'no', 'no']}\n",
        "\n",
        "labels = ['a', 'b', 'c', 'd', 'e', 'f', 'g', 'h', 'i', 'j']"
      ],
      "execution_count": 0,
      "outputs": []
    },
    {
      "metadata": {
        "id": "9erbHYY0jPNJ",
        "colab_type": "text"
      },
      "cell_type": "markdown",
      "source": [
        "** 11.1 Implement function repl_nan(data, labels) which creates a dataframe from dictionary  \"data\" with indexes from the list \"labels\", replaces the values \"nan\" in the age field by the mean age depending on the animal's type and returns a new dataframe.**\n",
        "<div style=\"text-align: right\">DRP reward: 2</div>"
      ]
    },
    {
      "metadata": {
        "id": "TTd04W3zjPNL",
        "colab_type": "code",
        "colab": {}
      },
      "cell_type": "code",
      "source": [
        "def repl_nan(data, labels):    \n",
        "    \"\"\"\n",
        "    :param data: dict\n",
        "    :param labels: list[str]\n",
        "    :return: pandas.core.frame.DataFrame \n",
        "    \"\"\"\n",
        "    frame = pd.DataFrame(data, index=labels)\n",
        "    frame.age = frame.groupby('animal')['age'].apply(lambda x: x.fillna(x.mean()))\n",
        "    return frame"
      ],
      "execution_count": 0,
      "outputs": []
    },
    {
      "metadata": {
        "id": "4yHypyufK4rv",
        "colab_type": "code",
        "colab": {
          "base_uri": "https://localhost:8080/",
          "height": 343
        },
        "outputId": "e78fee99-193b-4f5e-d9aa-a7936d9b8b61"
      },
      "cell_type": "code",
      "source": [
        "repl_nan(data, labels)"
      ],
      "execution_count": 8,
      "outputs": [
        {
          "output_type": "execute_result",
          "data": {
            "text/html": [
              "<div>\n",
              "<style scoped>\n",
              "    .dataframe tbody tr th:only-of-type {\n",
              "        vertical-align: middle;\n",
              "    }\n",
              "\n",
              "    .dataframe tbody tr th {\n",
              "        vertical-align: top;\n",
              "    }\n",
              "\n",
              "    .dataframe thead th {\n",
              "        text-align: right;\n",
              "    }\n",
              "</style>\n",
              "<table border=\"1\" class=\"dataframe\">\n",
              "  <thead>\n",
              "    <tr style=\"text-align: right;\">\n",
              "      <th></th>\n",
              "      <th>age</th>\n",
              "      <th>animal</th>\n",
              "      <th>priority</th>\n",
              "      <th>weight</th>\n",
              "    </tr>\n",
              "  </thead>\n",
              "  <tbody>\n",
              "    <tr>\n",
              "      <th>a</th>\n",
              "      <td>2.500</td>\n",
              "      <td>cat</td>\n",
              "      <td>yes</td>\n",
              "      <td>1</td>\n",
              "    </tr>\n",
              "    <tr>\n",
              "      <th>b</th>\n",
              "      <td>1.000</td>\n",
              "      <td>cat</td>\n",
              "      <td>yes</td>\n",
              "      <td>3</td>\n",
              "    </tr>\n",
              "    <tr>\n",
              "      <th>c</th>\n",
              "      <td>0.500</td>\n",
              "      <td>dog</td>\n",
              "      <td>no</td>\n",
              "      <td>6</td>\n",
              "    </tr>\n",
              "    <tr>\n",
              "      <th>d</th>\n",
              "      <td>3.500</td>\n",
              "      <td>dog</td>\n",
              "      <td>yes</td>\n",
              "      <td>8</td>\n",
              "    </tr>\n",
              "    <tr>\n",
              "      <th>e</th>\n",
              "      <td>5.000</td>\n",
              "      <td>cat</td>\n",
              "      <td>no</td>\n",
              "      <td>4</td>\n",
              "    </tr>\n",
              "    <tr>\n",
              "      <th>f</th>\n",
              "      <td>2.000</td>\n",
              "      <td>cat</td>\n",
              "      <td>no</td>\n",
              "      <td>3</td>\n",
              "    </tr>\n",
              "    <tr>\n",
              "      <th>g</th>\n",
              "      <td>3.500</td>\n",
              "      <td>dog</td>\n",
              "      <td>no</td>\n",
              "      <td>10</td>\n",
              "    </tr>\n",
              "    <tr>\n",
              "      <th>h</th>\n",
              "      <td>2.625</td>\n",
              "      <td>cat</td>\n",
              "      <td>yes</td>\n",
              "      <td>2</td>\n",
              "    </tr>\n",
              "    <tr>\n",
              "      <th>i</th>\n",
              "      <td>7.000</td>\n",
              "      <td>dog</td>\n",
              "      <td>no</td>\n",
              "      <td>7</td>\n",
              "    </tr>\n",
              "    <tr>\n",
              "      <th>j</th>\n",
              "      <td>3.000</td>\n",
              "      <td>dog</td>\n",
              "      <td>no</td>\n",
              "      <td>3</td>\n",
              "    </tr>\n",
              "  </tbody>\n",
              "</table>\n",
              "</div>"
            ],
            "text/plain": [
              "     age animal priority  weight\n",
              "a  2.500    cat      yes       1\n",
              "b  1.000    cat      yes       3\n",
              "c  0.500    dog       no       6\n",
              "d  3.500    dog      yes       8\n",
              "e  5.000    cat       no       4\n",
              "f  2.000    cat       no       3\n",
              "g  3.500    dog       no      10\n",
              "h  2.625    cat      yes       2\n",
              "i  7.000    dog       no       7\n",
              "j  3.000    dog       no       3"
            ]
          },
          "metadata": {
            "tags": []
          },
          "execution_count": 8
        }
      ]
    },
    {
      "metadata": {
        "id": "p8pqoHpjK4rz",
        "colab_type": "text"
      },
      "cell_type": "markdown",
      "source": [
        "Expected Output: \n",
        "\n",
        "|  | age | animal                    | priority | weight       | \n",
        "|----|-------------------------|----------|------------|------------------------------------------------|--------------------------------------------------------|--------------|-----------------------|\n",
        "| **a**  | 2.500 | cat      | yes | 1|\n",
        "| **b** | 1.000  | cat      | yes | 3|\n",
        "| **c** | 0.500  | dog      | no | 6|\n",
        "| **d** | 3.500  | dog      | yes | 8|\n",
        "| **e** | 5.000  | cat      | no | 4|\n",
        "| **f** | 2.000  | cat      | no | 3|\n",
        "| **g** | 3.500  | dog      | no | 10|\n",
        "| **h** | 2.625  | cat      | yes | 2|\n",
        "| **i** | 7.000  | dog      | no |7|\n",
        "| **j** | 3.000  | dog      | no | 3|"
      ]
    },
    {
      "metadata": {
        "id": "nnrks-vGjPNO",
        "colab_type": "text"
      },
      "cell_type": "markdown",
      "source": [
        "#### 11.2 Implement function weight_to_type(data, labels) which creates a dataframe from dictionary \"data\" with indexes from the list \"labels\", calculates average weight of each animal type and returns dictionary with these values, where keys are animal types and values are animal weights.\n",
        "<div style=\"text-align: right\">DRP reward: 2</div>"
      ]
    },
    {
      "metadata": {
        "id": "v5fN_pdbjPNP",
        "colab_type": "code",
        "colab": {}
      },
      "cell_type": "code",
      "source": [
        "def weight_to_type(data, labels):    \n",
        "    \"\"\"\n",
        "    :param data: dict\n",
        "    :param labels: list[str]\n",
        "    :return: dict\n",
        "    \"\"\"\n",
        "    frame = pd.DataFrame(data, index=labels)\n",
        "    return frame.groupby('animal')['weight'].mean().to_dict()"
      ],
      "execution_count": 0,
      "outputs": []
    },
    {
      "metadata": {
        "id": "H3Nhz68eK4r6",
        "colab_type": "code",
        "colab": {
          "base_uri": "https://localhost:8080/",
          "height": 34
        },
        "outputId": "60759830-2d61-4c5d-e6a4-cb873a11a4b9"
      },
      "cell_type": "code",
      "source": [
        "print('weight_to_type', weight_to_type(data, labels))"
      ],
      "execution_count": 22,
      "outputs": [
        {
          "output_type": "stream",
          "text": [
            "weight_to_type {'cat': 2.6, 'dog': 6.8}\n"
          ],
          "name": "stdout"
        }
      ]
    },
    {
      "metadata": {
        "id": "9uRGpRWhK4r-",
        "colab_type": "text"
      },
      "cell_type": "markdown",
      "source": [
        "Expected Output: \n",
        "<table>\n",
        "  <tr>\n",
        "    <td>weight_to_type:</td>\n",
        "    <td> {'cat': 2.6, 'dog': 6.8} </td> \n",
        "  </tr>"
      ]
    },
    {
      "metadata": {
        "id": "aMRFy0acjPNS",
        "colab_type": "text"
      },
      "cell_type": "markdown",
      "source": [
        "#### 11.3  Implement function kittens(data, labels) which creates a dataframe from dictionary \"data\" with indexes from the list \"labels\" and returns dataframe with data about cats with age < 3.\n",
        "<div style=\"text-align: right\">DRP reward: 2</div>"
      ]
    },
    {
      "metadata": {
        "id": "iUdq_fcdjPNU",
        "colab_type": "code",
        "colab": {}
      },
      "cell_type": "code",
      "source": [
        "def kittens(data, labels):    \n",
        "    \"\"\"\n",
        "    :param data: dict\n",
        "    :param labels: list[str]\n",
        "    :return: pandas.core.frame.DataFrame\n",
        "    \"\"\"\n",
        "    frame = pd.DataFrame(data, index=labels)\n",
        "    return frame.loc[frame['animal'] == 'cat'].loc[frame['age']<3].head(3)"
      ],
      "execution_count": 0,
      "outputs": []
    },
    {
      "metadata": {
        "id": "G9kSaQclK4sC",
        "colab_type": "code",
        "colab": {
          "base_uri": "https://localhost:8080/",
          "height": 136
        },
        "outputId": "0c9ea467-62db-40ec-ba58-1230ef4c7fa3"
      },
      "cell_type": "code",
      "source": [
        "kittens(data, labels)"
      ],
      "execution_count": 63,
      "outputs": [
        {
          "output_type": "execute_result",
          "data": {
            "text/html": [
              "<div>\n",
              "<style scoped>\n",
              "    .dataframe tbody tr th:only-of-type {\n",
              "        vertical-align: middle;\n",
              "    }\n",
              "\n",
              "    .dataframe tbody tr th {\n",
              "        vertical-align: top;\n",
              "    }\n",
              "\n",
              "    .dataframe thead th {\n",
              "        text-align: right;\n",
              "    }\n",
              "</style>\n",
              "<table border=\"1\" class=\"dataframe\">\n",
              "  <thead>\n",
              "    <tr style=\"text-align: right;\">\n",
              "      <th></th>\n",
              "      <th>age</th>\n",
              "      <th>animal</th>\n",
              "      <th>priority</th>\n",
              "      <th>weight</th>\n",
              "    </tr>\n",
              "  </thead>\n",
              "  <tbody>\n",
              "    <tr>\n",
              "      <th>a</th>\n",
              "      <td>2.5</td>\n",
              "      <td>cat</td>\n",
              "      <td>yes</td>\n",
              "      <td>1</td>\n",
              "    </tr>\n",
              "    <tr>\n",
              "      <th>b</th>\n",
              "      <td>1.0</td>\n",
              "      <td>cat</td>\n",
              "      <td>yes</td>\n",
              "      <td>3</td>\n",
              "    </tr>\n",
              "    <tr>\n",
              "      <th>f</th>\n",
              "      <td>2.0</td>\n",
              "      <td>cat</td>\n",
              "      <td>no</td>\n",
              "      <td>3</td>\n",
              "    </tr>\n",
              "  </tbody>\n",
              "</table>\n",
              "</div>"
            ],
            "text/plain": [
              "   age animal priority  weight\n",
              "a  2.5    cat      yes       1\n",
              "b  1.0    cat      yes       3\n",
              "f  2.0    cat       no       3"
            ]
          },
          "metadata": {
            "tags": []
          },
          "execution_count": 63
        }
      ]
    },
    {
      "metadata": {
        "id": "mM_0AhbrK4sE",
        "colab_type": "text"
      },
      "cell_type": "markdown",
      "source": [
        "Expected Output: \n",
        "\n",
        "|  | age | animal                    | priority | weight       | \n",
        "|----|-------------------------|----------|------------|------------------------------------------------|--------------------------------------------------------|--------------|-----------------------|\n",
        "| **a** | 2.5  | cat      | yes | 1|\n",
        "| **b** | 1.0  | cat      | yes | 3|\n",
        "| **f** | 2.0  | cat      | no | 3|"
      ]
    },
    {
      "metadata": {
        "id": "Mtc079yNjPNZ",
        "colab_type": "text"
      },
      "cell_type": "markdown",
      "source": [
        "#### 11.4  Implement function sorted_df(data, labels) which creates a dataframe from dictionary \"data\" with indexes from the list \"labels\" which returns dataframe sorted  firstly by age in a decreasing order, secondly, for the number of weight in ascending order.\n",
        "<div style=\"text-align: right\">DRP reward: 2</div>"
      ]
    },
    {
      "metadata": {
        "id": "zaQ4-bqLjPNa",
        "colab_type": "code",
        "colab": {}
      },
      "cell_type": "code",
      "source": [
        "def sorted_df(data, labels):\n",
        "    \"\"\"\n",
        "    :param data: dict\n",
        "    :param labels: list[str]\n",
        "    :return: pandas.core.frame.DataFrame \n",
        "    \"\"\"\n",
        "    frame = pd.DataFrame(data, index=labels).sort_values(by='weight', ascending=True).sort_values(by='age', ascending=False)\n",
        "    return frame"
      ],
      "execution_count": 0,
      "outputs": []
    },
    {
      "metadata": {
        "id": "u8KzQNeQK4sI",
        "colab_type": "code",
        "colab": {
          "base_uri": "https://localhost:8080/",
          "height": 343
        },
        "outputId": "3a82419a-a921-41a9-cf0f-8275fa7b3925"
      },
      "cell_type": "code",
      "source": [
        "sorted_df(data, labels)"
      ],
      "execution_count": 58,
      "outputs": [
        {
          "output_type": "execute_result",
          "data": {
            "text/html": [
              "<div>\n",
              "<style scoped>\n",
              "    .dataframe tbody tr th:only-of-type {\n",
              "        vertical-align: middle;\n",
              "    }\n",
              "\n",
              "    .dataframe tbody tr th {\n",
              "        vertical-align: top;\n",
              "    }\n",
              "\n",
              "    .dataframe thead th {\n",
              "        text-align: right;\n",
              "    }\n",
              "</style>\n",
              "<table border=\"1\" class=\"dataframe\">\n",
              "  <thead>\n",
              "    <tr style=\"text-align: right;\">\n",
              "      <th></th>\n",
              "      <th>age</th>\n",
              "      <th>animal</th>\n",
              "      <th>priority</th>\n",
              "      <th>weight</th>\n",
              "    </tr>\n",
              "  </thead>\n",
              "  <tbody>\n",
              "    <tr>\n",
              "      <th>i</th>\n",
              "      <td>7.0</td>\n",
              "      <td>dog</td>\n",
              "      <td>no</td>\n",
              "      <td>7</td>\n",
              "    </tr>\n",
              "    <tr>\n",
              "      <th>e</th>\n",
              "      <td>5.0</td>\n",
              "      <td>cat</td>\n",
              "      <td>no</td>\n",
              "      <td>4</td>\n",
              "    </tr>\n",
              "    <tr>\n",
              "      <th>g</th>\n",
              "      <td>3.5</td>\n",
              "      <td>dog</td>\n",
              "      <td>no</td>\n",
              "      <td>10</td>\n",
              "    </tr>\n",
              "    <tr>\n",
              "      <th>j</th>\n",
              "      <td>3.0</td>\n",
              "      <td>dog</td>\n",
              "      <td>no</td>\n",
              "      <td>3</td>\n",
              "    </tr>\n",
              "    <tr>\n",
              "      <th>a</th>\n",
              "      <td>2.5</td>\n",
              "      <td>cat</td>\n",
              "      <td>yes</td>\n",
              "      <td>1</td>\n",
              "    </tr>\n",
              "    <tr>\n",
              "      <th>f</th>\n",
              "      <td>2.0</td>\n",
              "      <td>cat</td>\n",
              "      <td>no</td>\n",
              "      <td>3</td>\n",
              "    </tr>\n",
              "    <tr>\n",
              "      <th>b</th>\n",
              "      <td>1.0</td>\n",
              "      <td>cat</td>\n",
              "      <td>yes</td>\n",
              "      <td>3</td>\n",
              "    </tr>\n",
              "    <tr>\n",
              "      <th>c</th>\n",
              "      <td>0.5</td>\n",
              "      <td>dog</td>\n",
              "      <td>no</td>\n",
              "      <td>6</td>\n",
              "    </tr>\n",
              "    <tr>\n",
              "      <th>h</th>\n",
              "      <td>NaN</td>\n",
              "      <td>cat</td>\n",
              "      <td>yes</td>\n",
              "      <td>2</td>\n",
              "    </tr>\n",
              "    <tr>\n",
              "      <th>d</th>\n",
              "      <td>NaN</td>\n",
              "      <td>dog</td>\n",
              "      <td>yes</td>\n",
              "      <td>8</td>\n",
              "    </tr>\n",
              "  </tbody>\n",
              "</table>\n",
              "</div>"
            ],
            "text/plain": [
              "   age animal priority  weight\n",
              "i  7.0    dog       no       7\n",
              "e  5.0    cat       no       4\n",
              "g  3.5    dog       no      10\n",
              "j  3.0    dog       no       3\n",
              "a  2.5    cat      yes       1\n",
              "f  2.0    cat       no       3\n",
              "b  1.0    cat      yes       3\n",
              "c  0.5    dog       no       6\n",
              "h  NaN    cat      yes       2\n",
              "d  NaN    dog      yes       8"
            ]
          },
          "metadata": {
            "tags": []
          },
          "execution_count": 58
        }
      ]
    },
    {
      "metadata": {
        "id": "JqVSL4FCK4sP",
        "colab_type": "text"
      },
      "cell_type": "markdown",
      "source": [
        "Expected Output: \n",
        "\n",
        "|  | age | animal                    | priority | weight       | \n",
        "|----|-------------------------|----------|------------|------------------------------------------------|--------------------------------------------------------|--------------|-----------------------|\n",
        "| **i** | 7.0  | dog      | no |7|\n",
        "| **e** | 5.0  | cat      | no | 4|\n",
        "| **g** | 3.5  | dog      | no | 10|\n",
        "| **j** | 3.0  | dog      | no | 3|\n",
        "| **a**  | 2.5 | cat      | yes | 1|\n",
        "| **f** | 2.0  | cat      | no | 3|\n",
        "| **b** | 1.0  | cat      | yes | 3|\n",
        "| **c** | 0.5  | dog      | no | 6|\n",
        "| **h** | NaN  | cat      | yes | 2|\n",
        "| **d** | NaN  | dog      | yes | 8|"
      ]
    },
    {
      "metadata": {
        "id": "bBm2pIAkK4sR",
        "colab_type": "text"
      },
      "cell_type": "markdown",
      "source": [
        "## Scipy"
      ]
    },
    {
      "metadata": {
        "id": "KgHL1atIK4sR",
        "colab_type": "code",
        "colab": {}
      },
      "cell_type": "code",
      "source": [
        "import scipy"
      ],
      "execution_count": 0,
      "outputs": []
    },
    {
      "metadata": {
        "id": "oQxbkeQzN9Jc",
        "colab_type": "text"
      },
      "cell_type": "markdown",
      "source": [
        "#### 12. The equation of motion for the damped oscillator is:\n",
        "\n",
        "\n",
        "\n",
        "<div style=\"text-align: center\">$\\frac{d^{2}x}{dt^2}+2\\zeta \\omega _{0}\\frac{dx}{dt}+\\omega_ {0}^{2}x = 0$</div>\n",
        "\n",
        "where $x$ is the position of the oscillator, $\\omega_0$ is the frequency, and $\\zeta$ is the damping ratio.\n",
        "\n",
        "To write this second-order ODE on standard form we introduce $p$ = dx/dt:\n",
        "\n",
        "<div style=\"text-align: center\">$\\frac{dp}{dt} = -2\\zeta \\omega _{0}p - \\omega_ {0}^{2}x$</div>\n",
        "\n",
        "<div style=\"text-align: center\">$\\frac{dx}{dt} = p$</div>\n",
        "\n",
        "Implement function undamped() which solves the ODE for undamped oscillation.\n",
        "<div style=\"text-align: right\">DRP reward: 2</div>\n",
        "Return vector of y coordinates, depending on time t."
      ]
    },
    {
      "metadata": {
        "id": "ZSUQJoA_jPNd",
        "colab_type": "code",
        "colab": {}
      },
      "cell_type": "code",
      "source": [
        "def undamped(y0, t):\n",
        "    '''\n",
        "    :param y0: list, initial state \n",
        "    :param t: array, time coodinate to solve the ODE for\n",
        "    :return: numpy.ndarray of shape (10, )\n",
        "    '''\n",
        "    # frequency:\n",
        "    w0 = 2.0 * np.pi\n",
        "    def dy(y, t, zeta, w0):\n",
        "      \"\"\"\n",
        "      The right-hand side of the damped oscillator ODE\n",
        "      \"\"\"\n",
        "      x, p = y[0], y[1]\n",
        "      dx = p\n",
        "      dp = -2 * zeta * w0 * p - w0**2 * x\n",
        "      return [dx, dp]\n",
        "    return scipy.integrate.odeint(dy, y0, t, args=(0.0, w0))[:,0]\n",
        "    "
      ],
      "execution_count": 0,
      "outputs": []
    },
    {
      "metadata": {
        "id": "yPAWS-BDK4sZ",
        "colab_type": "code",
        "colab": {
          "base_uri": "https://localhost:8080/",
          "height": 50
        },
        "outputId": "b8440146-797f-405b-ca2c-c761973043a1"
      },
      "cell_type": "code",
      "source": [
        "y0 = [2.0, 0.0] \n",
        "t = np.linspace(0, 5, 5)\n",
        "\n",
        "print(undamped(y0, t))"
      ],
      "execution_count": 32,
      "outputs": [
        {
          "output_type": "stream",
          "text": [
            "[ 2.00000000e+00  7.49489745e-08 -2.00000012e+00 -1.95362282e-07\n",
            "  2.00000027e+00]\n"
          ],
          "name": "stdout"
        }
      ]
    },
    {
      "metadata": {
        "id": "GG3WW7VDK4sb",
        "colab_type": "text"
      },
      "cell_type": "markdown",
      "source": [
        "Expected Output: \n",
        "<table>\n",
        "  <tr>\n",
        "    <td>undamped:</td>\n",
        "    <td> [  2.00000000e+00   7.49489745e-08  -2.00000012e+00  -1.95362282e-07\n",
        "   2.00000027e+00] </td> \n",
        "  </tr>"
      ]
    }
  ]
}