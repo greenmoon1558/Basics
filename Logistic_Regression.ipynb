{
  "nbformat": 4,
  "nbformat_minor": 0,
  "metadata": {
    "colab": {
      "name": "Logistic_Regression.ipynb",
      "version": "0.3.2",
      "provenance": [],
      "collapsed_sections": [],
      "include_colab_link": true
    },
    "kernelspec": {
      "display_name": "Python 3",
      "language": "python",
      "name": "python3"
    }
  },
  "cells": [
    {
      "cell_type": "markdown",
      "metadata": {
        "id": "view-in-github",
        "colab_type": "text"
      },
      "source": [
        "[View in Colaboratory](https://colab.research.google.com/github/greenmoon1558/Basics/blob/master/Logistic_Regression.ipynb)"
      ]
    },
    {
      "metadata": {
        "id": "LTjV_QhNIgxE",
        "colab_type": "text"
      },
      "cell_type": "markdown",
      "source": [
        "# Logistic Regression\n",
        "\n",
        "Welcome to your next lab! You will build a logistic regression classifier. \n",
        "\n",
        "You will classify pictures with and without cats.\n",
        "\n",
        "**Instructions:**\n",
        "- Do not use loops (for/while) in your code, unless the instructions explicitly ask you to do so.\n",
        "\n",
        "**You will learn to:**\n",
        "- Build the general architecture of a learning algorithm, including:\n",
        "    - Initializing parameters\n",
        "    - Calculating the cost function and its gradient\n",
        "    - Using an optimization algorithm (gradient descent) \n",
        "- Gather all three functions above into a main model function, in the right order."
      ]
    },
    {
      "metadata": {
        "id": "q5s5aPjlIgxG",
        "colab_type": "text"
      },
      "cell_type": "markdown",
      "source": [
        "## 1 - Packages ##\n",
        "\n",
        "First, let's run the cell below to import all the packages that you will need during this assignment. \n",
        "- [numpy](www.numpy.org) is the fundamental package for scientific computing with Python.\n",
        "- [h5py](http://www.h5py.org) is a common package to interact with a dataset that is stored in HDF5 format.\n",
        "- [matplotlib](http://matplotlib.org) is a famous library to plot graphs in Python."
      ]
    },
    {
      "metadata": {
        "id": "ip12qta2IgxG",
        "colab_type": "code",
        "colab": {}
      },
      "cell_type": "code",
      "source": [
        "import numpy as np\n",
        "import h5py\n",
        "import matplotlib.pyplot as plt\n",
        "\n",
        "%matplotlib inline"
      ],
      "execution_count": 0,
      "outputs": []
    },
    {
      "metadata": {
        "id": "3ADfa7UWIgxJ",
        "colab_type": "text"
      },
      "cell_type": "markdown",
      "source": [
        "## 2 - Overview of the Problem set ##\n",
        "\n",
        "**Problem Statement**: You are given a dataset containing:\n",
        "    - a training set of m_train examples labeled as (y=1) or (y=0)\n",
        "    - a test set of m_test examples as (y=1) or (y=0)\n",
        "    - each example is of shape (number of features = 64 * 64 * 3, 1)\n",
        "\n",
        "You will build a simple algorithm that can correctly classify training examples depending on your particular dataset.\n",
        "\n",
        "<b>Let's get more familiar with the dataset. Load the data by running the following code.</b>"
      ]
    },
    {
      "metadata": {
        "id": "SZyUOo3hIgxK",
        "colab_type": "code",
        "colab": {}
      },
      "cell_type": "code",
      "source": [
        "# Loading the data\n",
        "\n",
        "def load_data():\n",
        "    train_dataset = h5py.File(\"train_cats.h5\", \"r\")\n",
        "    train_set_x = np.array(train_dataset[\"train_set_x\"][:]) # your train set features\n",
        "    train_set_y = np.array(train_dataset[\"train_set_y\"][:]) # your train set labels\n",
        "\n",
        "    test_dataset = h5py.File(\"test_cats.h5\", \"r\")\n",
        "    test_set_x = np.array(test_dataset[\"test_set_x\"][:]) # your test set features\n",
        "    test_set_y = np.array(test_dataset[\"test_set_y\"][:]) # your test set labels\n",
        "\n",
        "    classes = np.array(test_dataset[\"list_classes\"][:]) # the list of classes\n",
        "    \n",
        "    # Images have (64(width), 64(height), 3(RGB)) dimensions, we need to have all the pixels as features\n",
        "    test_set_x = test_set_x.reshape(test_set_x.shape[0], -1).T # shape ((209)examples, (64)width, (64)height, (3)RGB) -> (64 * 64 * 3, 209)\n",
        "    train_set_x = train_set_x.reshape(train_set_x.shape[0], -1).T # shape ((209)examples, (64)width, (64)height, (3)RGB) -> (64 * 64 * 3, 209)\n",
        "\n",
        "    train_set_y = train_set_y.reshape((1, train_set_y.shape[0]))\n",
        "    test_set_y = test_set_y.reshape((1, test_set_y.shape[0]))\n",
        "    \n",
        "    return train_set_x, train_set_y, test_set_x, test_set_y, classes\n",
        "\n",
        "train_set_x, train_set_y, test_set_x, test_set_y, classes = load_data()"
      ],
      "execution_count": 0,
      "outputs": []
    },
    {
      "metadata": {
        "id": "ui3z2vXaIgxM",
        "colab_type": "code",
        "colab": {},
        "outputId": "f5489b21-fa8b-48f5-c236-0d6cb9bc2dac"
      },
      "cell_type": "code",
      "source": [
        "print (train_set_x.shape, train_set_y.shape, test_set_x.shape, test_set_y.shape, classes.shape)"
      ],
      "execution_count": 0,
      "outputs": [
        {
          "output_type": "stream",
          "text": [
            "(12288, 209) (1, 209) (12288, 50) (1, 50) (2,)\n"
          ],
          "name": "stdout"
        }
      ]
    },
    {
      "metadata": {
        "id": "eMnm8hHYIgxO",
        "colab_type": "text"
      },
      "cell_type": "markdown",
      "source": [
        "### Example of a picture"
      ]
    },
    {
      "metadata": {
        "id": "DEKTIoXAIgxO",
        "colab_type": "code",
        "colab": {},
        "outputId": "a99c7736-dbae-41fd-9ee6-d50f278f7555"
      },
      "cell_type": "code",
      "source": [
        "index = 42\n",
        "plt.imshow(train_set_x[:,index].reshape((64, 64, 3)))\n",
        "print (\"y = \" + str(train_set_y[:, index]) + \", it's a '\" + classes[np.squeeze(train_set_y[:, index])].decode(\"utf-8\") +  \"' picture.\")"
      ],
      "execution_count": 0,
      "outputs": [
        {
          "output_type": "stream",
          "text": [
            "y = [1], it's a 'cat' picture.\n"
          ],
          "name": "stdout"
        },
        {
          "output_type": "display_data",
          "data": {
            "image/png": "[encoded data removed]",
            "text/plain": [
              "<matplotlib.figure.Figure at 0x1cdf57a86d8>"
            ]
          },
          "metadata": {
            "tags": []
          }
        }
      ]
    },
    {
      "metadata": {
        "id": "4PR2XRmcIgxQ",
        "colab_type": "text"
      },
      "cell_type": "markdown",
      "source": [
        "Many software bugs in machine learning come from having matrix/vector dimensions that don't fit. If you can keep your matrix/vector dimensions straight you will go a long way toward eliminating many bugs. \n",
        "\n",
        "**Exercise:** Find the values for:\n",
        "    - m_train (number of training examples)\n",
        "    - m_test (number of test examples)"
      ]
    },
    {
      "metadata": {
        "id": "bM5XLGe8IgxR",
        "colab_type": "code",
        "colab": {},
        "outputId": "d33b6d1d-c31f-4693-d504-dc2dee0398fe"
      },
      "cell_type": "code",
      "source": [
        "### START CODE HERE ### (≈ 2 lines of code)\n",
        "m_train = train_set_x.shape[1]\n",
        "m_test = test_set_x.shape[1]\n",
        "### END CODE HERE ###\n",
        "\n",
        "print (\"Number of training examples: m_train = \" + str(m_train))\n",
        "print (\"Number of testing examples: m_test = \" + str(m_test))\n",
        "\n",
        "print (\"\\ntrain_set_x shape: \" + str(train_set_x.shape))\n",
        "print (\"train_set_y shape: \" + str(train_set_y.shape))\n",
        "print (\"test_set_x shape: \" + str(test_set_x.shape))\n",
        "print (\"test_set_y shape: \" + str(test_set_y.shape))"
      ],
      "execution_count": 0,
      "outputs": [
        {
          "output_type": "stream",
          "text": [
            "Number of training examples: m_train = 209\n",
            "Number of testing examples: m_test = 50\n",
            "\n",
            "train_set_x shape: (12288, 209)\n",
            "train_set_y shape: (1, 209)\n",
            "test_set_x shape: (12288, 50)\n",
            "test_set_y shape: (1, 50)\n"
          ],
          "name": "stdout"
        }
      ]
    },
    {
      "metadata": {
        "id": "fCkW_m4bIgxU",
        "colab_type": "text"
      },
      "cell_type": "markdown",
      "source": [
        "**Expected Output for m_train and m_test**: \n",
        "<table style=\"width:15%\">\n",
        "  <tr>\n",
        "    <td>**m_train**</td>\n",
        "    <td> 209 </td> \n",
        "  </tr>\n",
        "  \n",
        "  <tr>\n",
        "    <td>**m_test**</td>\n",
        "    <td> 50 </td> \n",
        "  </tr>\n",
        "</table>\n"
      ]
    },
    {
      "metadata": {
        "id": "r-AuahEtIgxV",
        "colab_type": "text"
      },
      "cell_type": "markdown",
      "source": [
        "### \"Standardization\"\n",
        "To represent color images, the red, green and blue channels (RGB) must be specified for each pixel, and so the pixel value is actually a vector of three numbers ranging from 0 to 255.\n",
        "\n",
        "One common preprocessing step in machine learning is to center and standardize your dataset, meaning that you substract the mean of the whole numpy array from each example, and then divide each example by the standard deviation of the whole numpy array. But for picture datasets, it is simpler and more convenient and works almost as well to just divide every row of the dataset by 255 (the maximum value of a pixel channel).\n",
        "\n",
        "Let's standardize our dataset."
      ]
    },
    {
      "metadata": {
        "id": "C1NrOEyMIgxW",
        "colab_type": "code",
        "colab": {}
      },
      "cell_type": "code",
      "source": [
        "train_set_x = train_set_x / 255.\n",
        "test_set_x = test_set_x / 255."
      ],
      "execution_count": 0,
      "outputs": []
    },
    {
      "metadata": {
        "id": "VrfXbSL7IgxZ",
        "colab_type": "text"
      },
      "cell_type": "markdown",
      "source": [
        "<font color='green'>\n",
        "**What you need to remember:**\n",
        "\n",
        "Common steps for pre-processing a new dataset are:\n",
        "- Figure out the dimensions and shapes of the problem (m_train, m_test, ...)\n",
        "- Reshape the datasets such that each example is now a vector of size (number of features, 1)\n",
        "- \"Standardize\" the data"
      ]
    },
    {
      "metadata": {
        "id": "_0zb_21DIgxa",
        "colab_type": "text"
      },
      "cell_type": "markdown",
      "source": [
        "## 3 - General Architecture of the learning algorithm ##\n",
        "\n",
        "**Mathematical expression of the algorithm**:\n",
        "\n",
        "For one example $x^{(i)}$:\n",
        "\n",
        "Compute Linear Regression: $z^{(i)} = w^T x^{(i)} + b \\tag{1}$\n",
        "Pass it through the activation function: $\\hat{y}^{(i)} = a^{(i)} = sigmoid(z^{(i)})\\tag{2}$\n",
        "We will use log-loss as a loss function:\n",
        "\n",
        "$$\\mathcal{L}(a^{(i)}, y^{(i)}) =  - y^{(i)}  \\log(a^{(i)}) - (1-y^{(i)} )  \\log(1-a^{(i)})\\tag{3}$$\n",
        "\n",
        "The cost is then computed by summing over all training examples:\n",
        "$$ J(w, b) = \\frac{1}{m} \\sum_{i=1}^m \\mathcal{L}(a^{(i)}, y^{(i)})\\tag{4}$$\n",
        "\n",
        "**Key steps**:\n",
        "In this exercise, you will carry out the following steps: \n",
        "    - Initialize the parameters of the model\n",
        "    - Learn the parameters for the model by minimizing the cost  \n",
        "    - Use the learned parameters to make predictions (on the test set)\n",
        "    - Analyse the results and make a conclusion"
      ]
    },
    {
      "metadata": {
        "id": "ryjne1TVIgxb",
        "colab_type": "text"
      },
      "cell_type": "markdown",
      "source": [
        "## 4 - Building the parts of our algorithm ## \n",
        "\n",
        "The main steps for building a learning algorithm:\n",
        "1. Define the model structure (such as number of input features) \n",
        "2. Initialize the model's parameters\n",
        "3. Loop:\n",
        "    - Calculate current loss (forward propagation)\n",
        "    - Calculate current gradient (backward propagation)\n",
        "    - Update parameters (gradient descent)\n",
        "\n",
        "You often build 1-3 separately and integrate them into one function we call `model()`.\n",
        "\n",
        "### 4.1 - Helper functions\n",
        "\n",
        "**Exercise**: Implement `sigmoid()`. As you've seen in the figure above, you need to compute $sigmoid( w^T x + b) = \\frac{1}{1 + e^{-(w^T x + b)}}$ to make predictions. Use `np.exp()`."
      ]
    },
    {
      "metadata": {
        "id": "LHdT7SEIIgxc",
        "colab_type": "code",
        "colab": {}
      },
      "cell_type": "code",
      "source": [
        "# GRADED FUNCTION: sigmoid\n",
        "\n",
        "def sigmoid(z):\n",
        "    \"\"\"\n",
        "    Compute the sigmoid of z\n",
        "\n",
        "    Arguments:\n",
        "    z -- A scalar or numpy array of any size.\n",
        "\n",
        "    Return:\n",
        "    s -- sigmoid(z)\n",
        "    \"\"\"\n",
        "\n",
        "    ### START CODE HERE ### (≈ 1 line of code)\n",
        "    s = (1/(1+np.exp(-z)))\n",
        "    ### END CODE HERE ###\n",
        "    \n",
        "    return s"
      ],
      "execution_count": 0,
      "outputs": []
    },
    {
      "metadata": {
        "id": "I0FcrFkCIgxd",
        "colab_type": "code",
        "colab": {},
        "outputId": "d887530b-6675-47b3-de54-ce2a857845a6"
      },
      "cell_type": "code",
      "source": [
        "print (\"sigmoid([0, 2]) = \" + str(sigmoid(np.array([0,2]))))"
      ],
      "execution_count": 0,
      "outputs": [
        {
          "output_type": "stream",
          "text": [
            "sigmoid([0, 2]) = [0.5        0.88079708]\n"
          ],
          "name": "stdout"
        }
      ]
    },
    {
      "metadata": {
        "id": "2Ciaq0cuIgxg",
        "colab_type": "text"
      },
      "cell_type": "markdown",
      "source": [
        "**Expected Output**: \n",
        "\n",
        "<table>\n",
        "  <tr>\n",
        "    <td>**sigmoid([0, 2])**</td>\n",
        "    <td> [ 0.5         0.88079708]</td> \n",
        "  </tr>\n",
        "</table>"
      ]
    },
    {
      "metadata": {
        "id": "A4XFeomFIgxg",
        "colab_type": "text"
      },
      "cell_type": "markdown",
      "source": [
        "### 4.2 - Initializing parameters\n",
        "\n",
        "**Exercise:** Implement parameter initialization in the cell below. You have to initialize w as a vector of zeros. If you don't know what numpy function to use, look up `np.zeros()` in the Numpy library's documentation."
      ]
    },
    {
      "metadata": {
        "id": "IBhZbikRIgxg",
        "colab_type": "code",
        "colab": {}
      },
      "cell_type": "code",
      "source": [
        "# GRADED FUNCTION: initialize_with_zeros\n",
        "\n",
        "def initialize_with_zeros(dim):\n",
        "    \"\"\"\n",
        "    This function creates a vector of zeros of shape (dim, 1) for w and initializes b to 0.\n",
        "    \n",
        "    Argument:\n",
        "    dim -- size of the w vector we want (or number of parameters in this case)\n",
        "    \n",
        "    Returns:\n",
        "    w -- initialized vector of shape (dim, 1)\n",
        "    b -- initialized scalar (corresponds to the bias)\n",
        "    \"\"\"\n",
        "    \n",
        "    ### START CODE HERE ### (≈ 2 lines of code)\n",
        "    w = np.zeros((dim,1))\n",
        "    b = 0\n",
        "    ### END CODE HERE ###\n",
        "\n",
        "    assert(w.shape == (dim, 1))\n",
        "    assert(isinstance(b, float) or isinstance(b, int))\n",
        "    \n",
        "    return w, b"
      ],
      "execution_count": 0,
      "outputs": []
    },
    {
      "metadata": {
        "id": "MXukxYQ8Igxj",
        "colab_type": "code",
        "colab": {},
        "outputId": "0e0b967a-eb74-45f4-ec63-e3d974228e35"
      },
      "cell_type": "code",
      "source": [
        "dim = 2\n",
        "w, b = initialize_with_zeros(dim)\n",
        "print (\"w = \" + str(w))\n",
        "print (\"b = \" + str(b))"
      ],
      "execution_count": 0,
      "outputs": [
        {
          "output_type": "stream",
          "text": [
            "w = [[0.]\n",
            " [0.]]\n",
            "b = 0\n"
          ],
          "name": "stdout"
        }
      ]
    },
    {
      "metadata": {
        "id": "fSwCgelAIgxl",
        "colab_type": "text"
      },
      "cell_type": "markdown",
      "source": [
        "**Expected Output**: \n",
        "\n",
        "\n",
        "<table style=\"width:15%\">\n",
        "    <tr>\n",
        "        <td>  ** w **  </td>\n",
        "        <td> [[ 0.]\n",
        " [ 0.]] </td>\n",
        "    </tr>\n",
        "    <tr>\n",
        "        <td>  ** b **  </td>\n",
        "        <td> 0 </td>\n",
        "    </tr>\n",
        "</table>"
      ]
    },
    {
      "metadata": {
        "id": "Xsnj0T3mIgxn",
        "colab_type": "text"
      },
      "cell_type": "markdown",
      "source": [
        "### 4.3 - Forward and Backward propagation\n",
        "\n",
        "Now that your parameters are initialized, you can do the \"forward\" and \"backward\" propagation steps for learning the parameters.\n",
        "\n",
        "**Exercise:** Implement a function `propagate()` that computes the cost function and its gradient.\n",
        "\n",
        "**Hints**:\n",
        "\n",
        "Forward Propagation:\n",
        "- You get X\n",
        "- You compute $A = \\sigma(w^T X + b) = (a^{(1)}, a^{(2)}, ..., a^{(m-1)}, a^{(m)})$\n",
        "- You calculate the cost function: $J = -\\frac{1}{m}\\sum_{i=1}^{m}y^{(i)}\\log(a^{(i)})+(1-y^{(i)})\\log(1-a^{(i)})$\n",
        "\n",
        "Here are the two formulas you will be using: \n",
        "\n",
        "$$ \\frac{\\partial J}{\\partial w} = \\frac{1}{m}X(A-Y)^T\\tag{5}$$\n",
        "$$ \\frac{\\partial J}{\\partial b} = \\frac{1}{m} \\sum_{i=1}^m (a^{(i)}-y^{(i)})\\tag{6}$$"
      ]
    },
    {
      "metadata": {
        "id": "gNoCaKL-Igxn",
        "colab_type": "code",
        "colab": {}
      },
      "cell_type": "code",
      "source": [
        "# GRADED FUNCTION: propagate\n",
        "\n",
        "def propagate(w, b, X, Y):\n",
        "    \"\"\"\n",
        "    Implement the cost function and its gradient for the propagation explained above\n",
        "\n",
        "    Arguments:\n",
        "    w -- weights, a numpy array of size (number of features, 1)\n",
        "    b -- bias, a scalar\n",
        "    X -- data of size (number of features, number of examples)\n",
        "    Y -- true \"label\" vector (containing 0 if non-cat, 1 if cat) of size (1, number of examples)\n",
        "\n",
        "    Return:\n",
        "    cost -- negative log-likelihood cost for logistic regression\n",
        "    dw -- gradient of the loss with respect to w, thus same shape as w\n",
        "    db -- gradient of the loss with respect to b, thus same shape as b\n",
        "    \n",
        "    Tips:\n",
        "    - Write your code step by step for the propagation. np.log(), np.dot()\n",
        "    \"\"\"\n",
        "    \n",
        "    m = X.shape[1]\n",
        "    \n",
        "    # FORWARD PROPAGATION (FROM X TO COST)\n",
        "    ### START CODE HERE ### (≈ 2 lines of code)\n",
        "    A =  sigmoid(np.dot(np.transpose(w), X)+b)    # compute activation\n",
        "    cost = -(1/m)*np.sum((Y*np.log(A))+((1-Y)*np.log(1-A)))   # compute cost\n",
        "    ### END CODE HERE ###\n",
        "    # BACKWARD PROPAGATION (TO FIND GRAD)\n",
        "    ### START CODE HERE ### (≈ 2 lines of code)\n",
        "    dw = (1/m)*np.sum(X*(A-Y), axis = 1)[:, np.newaxis]\n",
        "    db = (1/m)*np.sum(A-Y)\n",
        "    ### END CODE HERE ###\n",
        "    \n",
        "    assert(dw.shape == w.shape)\n",
        "    assert(db.dtype == float)\n",
        "    print(cost)\n",
        "    cost = np.squeeze(cost)\n",
        "    assert(cost.shape == ())\n",
        "    \n",
        "    grads = {\"dw\": dw,\n",
        "             \"db\": db}\n",
        "    \n",
        "    return grads, cost"
      ],
      "execution_count": 0,
      "outputs": []
    },
    {
      "metadata": {
        "id": "pap_G48zIgxq",
        "colab_type": "code",
        "colab": {},
        "outputId": "0d5d1d99-9456-417c-acd5-79f4b8c2266c"
      },
      "cell_type": "code",
      "source": [
        "w, b, X, Y = np.array([[1.],[2.]]), 2., np.array([[1.,2.,-1.],[3.,4.,-3.2]]), np.array([[1,0,1]])\n",
        "grads, cost = propagate(w, b, X, Y)\n",
        "print (\"dw = \" + str(grads[\"dw\"]))\n",
        "print (\"db = \" + str(grads[\"db\"]))\n",
        "print (\"cost = \" + str(cost))"
      ],
      "execution_count": 0,
      "outputs": [
        {
          "output_type": "stream",
          "text": [
            "[[-1.23402190e-04 -1.20000061e+01 -5.40450641e+00]]\n",
            "[-1.23402190e-04 -1.20000061e+01 -5.40450641e+00]\n",
            "5.801545319394553\n",
            "dw = [[0.99845601]\n",
            " [2.39507239]]\n",
            "db = 0.001455578136784208\n",
            "cost = 5.801545319394553\n"
          ],
          "name": "stdout"
        }
      ]
    },
    {
      "metadata": {
        "id": "wricPbBUIgxt",
        "colab_type": "text"
      },
      "cell_type": "markdown",
      "source": [
        "**Expected Output**:\n",
        "\n",
        "<table style=\"width:50%\">\n",
        "    <tr>\n",
        "        <td>  ** dw **  </td>\n",
        "      <td> [[ 0.99845601]\n",
        "     [ 2.39507239]]</td>\n",
        "    </tr>\n",
        "    <tr>\n",
        "        <td>  ** db **  </td>\n",
        "        <td> 0.00145557813678 </td>\n",
        "    </tr>\n",
        "    <tr>\n",
        "        <td>  ** cost **  </td>\n",
        "        <td> 5.801545319394553 </td>\n",
        "    </tr>\n",
        "\n",
        "</table>"
      ]
    },
    {
      "metadata": {
        "id": "oqQ9az4RIgxu",
        "colab_type": "text"
      },
      "cell_type": "markdown",
      "source": [
        "### 4.4 - Optimization\n",
        "- You have initialized your parameters.\n",
        "- You are also able to compute a cost function and its gradient.\n",
        "- Now, you want to update the parameters using gradient descent.\n",
        "\n",
        "**Exercise:** Write down the optimization function. The goal is to learn $w$ and $b$ by minimizing the cost function $J$. For a parameter $\\theta$, the update rule is $ \\theta = \\theta - \\alpha \\text{ } \\partial\\theta$, where $\\alpha$ is the learning rate."
      ]
    },
    {
      "metadata": {
        "id": "Hmcks9o6Igxu",
        "colab_type": "code",
        "colab": {}
      },
      "cell_type": "code",
      "source": [
        "# GRADED FUNCTION: optimize\n",
        "\n",
        "def optimize(w, b, X, Y, num_iterations, learning_rate, print_cost=False):\n",
        "    \"\"\"\n",
        "    This function optimizes w and b by running a gradient descent algorithm\n",
        "    \n",
        "    Arguments:\n",
        "    w -- weights, a numpy array of size (number of features, 1)\n",
        "    b -- bias, a scalar\n",
        "    X -- data of shape (number of features, number of examples)\n",
        "    Y -- true \"label\" vector (containing 0 if non-cat, 1 if cat), of shape (1, number of examples)\n",
        "    num_iterations -- number of iterations of the optimization loop\n",
        "    learning_rate -- learning rate of the gradient descent update rule\n",
        "    print_cost -- True to print the loss every 100 steps\n",
        "    \n",
        "    Returns:\n",
        "    params -- dictionary containing the weights w and bias b\n",
        "    grads -- dictionary containing the gradients of the weights and bias with respect to the cost function\n",
        "    costs -- list of all the costs computed during the optimization, this will be used to plot the learning curve.\n",
        "    \n",
        "    Tips:\n",
        "    You basically need to write down two steps and iterate through them:\n",
        "        1) Calculate the cost and the gradient for the current parameters. Use propagate().\n",
        "        2) Update the parameters using gradient descent rule for w and b.\n",
        "    \"\"\"\n",
        "    \n",
        "    costs = []\n",
        "    \n",
        "    for i in range(num_iterations):\n",
        "        \n",
        "        \n",
        "        # Cost and gradient calculation (≈ 1 line of code)\n",
        "        ### START CODE HERE ### \n",
        "        grads, cost = propagate(w, b, X, Y)\n",
        "        ### END CODE HERE ###\n",
        "        \n",
        "        # Retrieve derivatives from grads\n",
        "        dw = grads[\"dw\"]\n",
        "        db = grads[\"db\"]\n",
        "        \n",
        "        # update rule (≈ 2 lines of code)\n",
        "        ### START CODE HERE ###\n",
        "        w = w - learning_rate* dw\n",
        "        b = b - learning_rate* db\n",
        "        ### END CODE HERE ###\n",
        "        \n",
        "        # Record the costs\n",
        "        if i % 100 == 0:\n",
        "            costs.append(cost)\n",
        "        \n",
        "        # Print the cost every 100 training iterations\n",
        "        if print_cost and i % 100 == 0:\n",
        "            print (\"Cost after iteration %i: %f\" %(i, cost))\n",
        "    \n",
        "    params = {\"w\": w,\n",
        "              \"b\": b}\n",
        "    \n",
        "    grads = {\"dw\": dw,\n",
        "             \"db\": db}\n",
        "    \n",
        "    return params, grads, costs"
      ],
      "execution_count": 0,
      "outputs": []
    },
    {
      "metadata": {
        "id": "rsM2ZmsJIgxx",
        "colab_type": "code",
        "colab": {},
        "outputId": "041b3332-d920-4324-bdd2-577ad5868856"
      },
      "cell_type": "code",
      "source": [
        "params, grads, costs = optimize(w, b, X, Y, num_iterations=100, learning_rate=0.009, print_cost=False)\n",
        "\n",
        "print (\"w = \" + str(params[\"w\"]))\n",
        "print (\"b = \" + str(params[\"b\"]))\n",
        "print (\"dw = \" + str(grads[\"dw\"]))\n",
        "print (\"db = \" + str(grads[\"db\"]))"
      ],
      "execution_count": 0,
      "outputs": [
        {
          "output_type": "stream",
          "text": [
            "[[-1.23402190e-04 -1.20000061e+01 -5.40450641e+00]]\n",
            "[-1.23402190e-04 -1.20000061e+01 -5.40450641e+00]\n",
            "5.801545319394553\n",
            "[[-1.32835338e-04 -1.18957989e+01 -5.32691977e+00]]\n",
            "[-1.32835338e-04 -1.18957989e+01 -5.32691977e+00]\n",
            "5.7409505028093335\n",
            "[[-1.42987983e-04 -1.17916072e+01 -5.24937607e+00]]\n",
            "[-1.42987983e-04 -1.17916072e+01 -5.24937607e+00]\n",
            "5.680375426895575\n",
            "[[-1.53914745e-04 -1.16874323e+01 -5.17187874e+00]]\n",
            "[-1.53914745e-04 -1.16874323e+01 -5.17187874e+00]\n",
            "5.619821667177627\n",
            "[[-1.65674348e-04 -1.15832756e+01 -5.09443147e+00]]\n",
            "[-1.65674348e-04 -1.15832756e+01 -5.09443147e+00]\n",
            "5.559290922630777\n",
            "[[-1.78329921e-04 -1.14791385e+01 -5.01703824e+00]]\n",
            "[-1.78329921e-04 -1.14791385e+01 -5.01703824e+00]\n",
            "5.4987850248644605\n",
            "[[-1.91949322e-04 -1.13750226e+01 -4.93970334e+00]]\n",
            "[-1.91949322e-04 -1.13750226e+01 -4.93970334e+00]\n",
            "5.4383059480708145\n",
            "[[-2.06605483e-04 -1.12709295e+01 -4.86243139e+00]]\n",
            "[-2.06605483e-04 -1.12709295e+01 -4.86243139e+00]\n",
            "5.3778558196064505\n",
            "[[-2.22376779e-04 -1.11668610e+01 -4.78522737e+00]]\n",
            "[-2.22376779e-04 -1.11668610e+01 -4.78522737e+00]\n",
            "5.31743693118918\n",
            "[[-2.39347422e-04 -1.10628193e+01 -4.70809663e+00]]\n",
            "[-2.39347422e-04 -1.10628193e+01 -4.70809663e+00]\n",
            "5.257051750930272\n",
            "[[-2.57607878e-04 -1.09588063e+01 -4.63104494e+00]]\n",
            "[-2.57607878e-04 -1.09588063e+01 -4.63104494e+00]\n",
            "5.1967029360407295\n",
            "[[-2.77255323e-04 -1.08548243e+01 -4.55407850e+00]]\n",
            "[-2.77255323e-04 -1.08548243e+01 -4.55407850e+00]\n",
            "5.136393346354229\n",
            "[[-2.98394114e-04 -1.07508758e+01 -4.47720399e+00]]\n",
            "[-2.98394114e-04 -1.07508758e+01 -4.47720399e+00]\n",
            "5.0761260586313774\n",
            "[[-3.21136300e-04 -1.06469634e+01 -4.40042858e+00]]\n",
            "[-3.21136300e-04 -1.06469634e+01 -4.40042858e+00]\n",
            "5.015904381700862\n",
            "[[-3.45602168e-04 -1.05430900e+01 -4.32375997e+00]]\n",
            "[-3.45602168e-04 -1.05430900e+01 -4.32375997e+00]\n",
            "4.955731872427952\n",
            "[[-3.71920812e-04 -1.04392587e+01 -4.24720645e+00]]\n",
            "[-3.71920812e-04 -1.04392587e+01 -4.24720645e+00]\n",
            "4.895612352538272\n",
            "[[-4.00230751e-04 -1.03354727e+01 -4.17077689e+00]]\n",
            "[-4.00230751e-04 -1.03354727e+01 -4.17077689e+00]\n",
            "4.835549926277942\n",
            "[[-4.30680574e-04 -1.02317355e+01 -4.09448084e+00]]\n",
            "[-4.30680574e-04 -1.02317355e+01 -4.09448084e+00]\n",
            "4.7755489989189925\n",
            "[[-4.63429628e-04 -1.01280510e+01 -4.01832849e+00]]\n",
            "[-4.63429628e-04 -1.01280510e+01 -4.01832849e+00]\n",
            "4.71561429608081\n",
            "[[-4.98648749e-04 -1.00244232e+01 -3.94233081e+00]]\n",
            "[-4.98648749e-04 -1.00244232e+01 -3.94233081e+00]\n",
            "4.6557508838423285\n",
            "[[-5.36521025e-04 -9.92085653e+00 -3.86649952e+00]]\n",
            "[-5.36521025e-04 -9.92085653e+00 -3.86649952e+00]\n",
            "4.595964189588867\n",
            "[[-5.77242612e-04 -9.81735569e+00 -3.79084714e+00]]\n",
            "[-5.77242612e-04 -9.81735569e+00 -3.79084714e+00]\n",
            "4.536260023537635\n",
            "[[-6.21023584e-04 -9.71392569e+00 -3.71538709e+00]]\n",
            "[-6.21023584e-04 -9.71392569e+00 -3.71538709e+00]\n",
            "4.476644600852061\n",
            "[[-6.68088835e-04 -9.61057194e+00 -3.64013366e+00]]\n",
            "[-6.68088835e-04 -9.61057194e+00 -3.64013366e+00]\n",
            "4.417124564226807\n",
            "[[-7.18679019e-04 -9.50730021e+00 -3.56510213e+00]]\n",
            "[-7.18679019e-04 -9.50730021e+00 -3.56510213e+00]\n",
            "4.357707006833278\n",
            "[[-7.73051538e-04 -9.40411668e+00 -3.49030876e+00]]\n",
            "[-7.73051538e-04 -9.40411668e+00 -3.49030876e+00]\n",
            "4.298399495423375\n",
            "[[-8.31481574e-04 -9.30102793e+00 -3.41577086e+00]]\n",
            "[-8.31481574e-04 -9.30102793e+00 -3.41577086e+00]\n",
            "4.239210093432046\n",
            "[[-8.94263161e-04 -9.19804103e+00 -3.34150686e+00]]\n",
            "[-8.94263161e-04 -9.19804103e+00 -3.34150686e+00]\n",
            "4.180147383816733\n",
            "[[-9.61710303e-04 -9.09516349e+00 -3.26753628e+00]]\n",
            "[-9.61710303e-04 -9.09516349e+00 -3.26753628e+00]\n",
            "4.1212204913751425\n",
            "[[-1.03415814e-03 -8.99240330e+00 -3.19387985e+00]]\n",
            "[-1.03415814e-03 -8.99240330e+00 -3.19387985e+00]\n",
            "4.062439104215671\n",
            "[[-1.11196412e-03 -8.88976901e+00 -3.12055951e+00]]\n",
            "[-1.11196412e-03 -8.88976901e+00 -3.12055951e+00]\n",
            "4.003813494033474\n",
            "[[-1.19550926e-03 -8.78726966e+00 -3.04759844e+00]]\n",
            "[-1.19550926e-03 -8.78726966e+00 -3.04759844e+00]\n",
            "3.9453545347773975\n",
            "[[-1.28519941e-03 -8.68491487e+00 -2.97502109e+00]]\n",
            "[-1.28519941e-03 -8.68491487e+00 -2.97502109e+00]\n",
            "3.88707371925397\n",
            "[[-1.38146650e-03 -8.58271484e+00 -2.90285321e+00]]\n",
            "[-1.38146650e-03 -8.58271484e+00 -2.90285321e+00]\n",
            "3.82898317317329\n",
            "[[-1.48476990e-03 -8.48068036e+00 -2.83112186e+00]]\n",
            "[-1.48476990e-03 -8.48068036e+00 -2.83112186e+00]\n",
            "3.7710956660899897\n",
            "[[-1.59559773e-03 -8.37882284e+00 -2.75985542e+00]]\n",
            "[-1.59559773e-03 -8.37882284e+00 -2.75985542e+00]\n",
            "3.713424618643993\n",
            "[[-1.71446822e-03 -8.27715430e+00 -2.68908355e+00]]\n",
            "[-1.71446822e-03 -8.27715430e+00 -2.68908355e+00]\n",
            "3.6559841054874314\n",
            "[[-1.84193099e-03 -8.17568741e+00 -2.61883722e+00]]\n",
            "[-1.84193099e-03 -8.17568741e+00 -2.61883722e+00]\n",
            "3.598788853232609\n",
            "[[-1.97856845e-03 -8.07443549e+00 -2.54914864e+00]]\n",
            "[-1.97856845e-03 -8.07443549e+00 -2.54914864e+00]\n",
            "3.5418542327531086\n",
            "[[-2.12499708e-03 -7.97341250e+00 -2.48005124e+00]]\n",
            "[-2.12499708e-03 -7.97341250e+00 -2.48005124e+00]\n",
            "3.485196245157411\n",
            "[[-2.28186874e-03 -7.87263306e+00 -2.41157957e+00]]\n",
            "[-2.28186874e-03 -7.87263306e+00 -2.41157957e+00]\n",
            "3.4288315007655084\n",
            "[[-2.44987189e-03 -7.77211243e+00 -2.34376927e+00]]\n",
            "[-2.44987189e-03 -7.77211243e+00 -2.34376927e+00]\n",
            "3.3727771904490416\n",
            "[[-2.62973284e-03 -7.67186648e+00 -2.27665693e+00]]\n",
            "[-2.62973284e-03 -7.67186648e+00 -2.27665693e+00]\n",
            "3.317051048752003\n",
            "[[-2.82221687e-03 -7.57191174e+00 -2.21027997e+00]]\n",
            "[-2.82221687e-03 -7.57191174e+00 -2.21027997e+00]\n",
            "3.261671308280287\n",
            "[[-3.02812930e-03 -7.47226528e+00 -2.14467652e+00]]\n",
            "[-3.02812930e-03 -7.47226528e+00 -2.14467652e+00]\n",
            "3.2066566449616545\n",
            "[[-3.24831652e-03 -7.37294476e+00 -2.07988526e+00]]\n",
            "[-3.24831652e-03 -7.37294476e+00 -2.07988526e+00]\n",
            "3.1520261139053503\n",
            "[[-3.48366689e-03 -7.27396835e+00 -2.01594521e+00]]\n",
            "[-3.48366689e-03 -7.27396835e+00 -2.01594521e+00]\n",
            "3.0977990757617393\n",
            "[[-3.73511154e-03 -7.17535469e+00 -1.95289554e+00]]\n",
            "[-3.73511154e-03 -7.17535469e+00 -1.95289554e+00]\n",
            "3.0439951136709475\n",
            "[[-4.00362512e-03 -7.07712283e+00 -1.89077537e+00]]\n",
            "[-4.00362512e-03 -7.07712283e+00 -1.89077537e+00]\n",
            "2.9906339411123737\n",
            "[[-4.29022633e-03 -6.97929218e+00 -1.82962350e+00]]\n",
            "[-4.29022633e-03 -6.97929218e+00 -1.82962350e+00]\n",
            "2.9377353012070078\n",
            "[[-4.59597850e-03 -6.88188244e+00 -1.76947815e+00]]\n",
            "[-4.59597850e-03 -6.88188244e+00 -1.76947815e+00]\n",
            "2.8853188582848093\n",
            "[[-4.92198989e-03 -6.78491351e+00 -1.71037675e+00]]\n",
            "[-4.92198989e-03 -6.78491351e+00 -1.71037675e+00]\n",
            "2.8334040827949956\n",
            "[[-5.26941398e-03 -6.68840541e+00 -1.65235557e+00]]\n",
            "[-5.26941398e-03 -6.68840541e+00 -1.65235557e+00]\n",
            "2.782010130904063\n",
            "[[-5.63944963e-03 -6.59237820e+00 -1.59544951e+00]]\n",
            "[-5.63944963e-03 -6.59237820e+00 -1.59544951e+00]\n",
            "2.7311557203791432\n",
            "[[-6.03334111e-03 -6.49685186e+00 -1.53969182e+00]]\n",
            "[-6.03334111e-03 -6.49685186e+00 -1.53969182e+00]\n",
            "2.680859004584204\n",
            "[[-0.00645238 -6.40184622 -1.48511374]]\n",
            "[-0.00645238 -6.40184622 -1.48511374]\n",
            "2.631137446610227\n",
            "[[-0.0068979  -6.30738085 -1.43174434]]\n",
            "[-0.0068979  -6.30738085 -1.43174434]\n",
            "2.5820076957049856\n",
            "[[-0.00737127 -6.21347496 -1.37961017]]\n",
            "[-0.00737127 -6.21347496 -1.37961017]\n",
            "2.533485468253436\n",
            "[[-0.00787394 -6.12014728 -1.32873509]]\n",
            "[-0.00787394 -6.12014728 -1.32873509]\n",
            "2.4855854355790754\n",
            "[[-0.00840735 -6.02741599 -1.27914002]]\n",
            "[-0.00840735 -6.02741599 -1.27914002]\n",
            "2.4383211207810884\n",
            "[[-0.00897304 -5.93529863 -1.23084275]]\n",
            "[-0.00897304 -5.93529863 -1.23084275]\n",
            "2.391704806691144\n",
            "[[-0.00957255 -5.84381198 -1.18385785]]\n",
            "[-0.00957255 -5.84381198 -1.18385785]\n",
            "2.3457474568306047\n",
            "[[-0.01020748 -5.752972   -1.13819647]]\n",
            "[-0.01020748 -5.752972   -1.13819647]\n",
            "2.300458650974883\n",
            "[[-0.01087949 -5.66279379 -1.09386633]]\n",
            "[-0.01087949 -5.66279379 -1.09386633]\n",
            "2.2558465366021174\n",
            "[[-0.01159025 -5.5732915  -1.05087165]]\n",
            "[-0.01159025 -5.5732915  -1.05087165]\n",
            "2.2119177971257997\n",
            "[[-0.01234149 -5.48447827 -1.00921315]]\n",
            "[-0.01234149 -5.48447827 -1.00921315]\n",
            "2.1686776374047385\n",
            "[[-0.013135   -5.39636624 -0.96888812]]\n",
            "[-0.013135   -5.39636624 -0.96888812]\n",
            "2.1261297866046034\n",
            "[[-0.01397257 -5.30896652 -0.92989047]]\n",
            "[-0.01397257 -5.30896652 -0.92989047]\n",
            "2.084276518069984\n",
            "[[-0.01485607 -5.22228914 -0.89221085]]\n",
            "[-0.01485607 -5.22228914 -0.89221085]\n",
            "2.043118685473982\n",
            "[[-0.01578739 -5.13634314 -0.8558368 ]]\n",
            "[-0.01578739 -5.13634314 -0.8558368 ]\n",
            "2.0026557741558935\n",
            "[[-0.01676846 -5.05113651 -0.82075292]]\n",
            "[-0.01676846 -5.05113651 -0.82075292]\n",
            "1.9628859662520688\n",
            "[[-0.01780128 -4.96667628 -0.78694109]]\n",
            "[-0.01780128 -4.96667628 -0.78694109]\n",
            "1.9238062179776763\n",
            "[[-0.01888785 -4.88296855 -0.75438064]]\n",
            "[-0.01888785 -4.88296855 -0.75438064]\n",
            "1.8854123472355346\n",
            "[[-0.02003024 -4.80001853 -0.72304862]]\n",
            "[-0.02003024 -4.80001853 -0.72304862]\n",
            "1.8476991296126815\n",
            "[[-0.02123053 -4.71783064 -0.69292003]]\n",
            "[-0.02123053 -4.71783064 -0.69292003]\n",
            "1.8106604007761158\n",
            "[[-0.02249086 -4.63640855 -0.66396807]]\n",
            "[-0.02249086 -4.63640855 -0.66396807]\n",
            "1.7742891632904003\n",
            "[[-0.02381341 -4.5557553  -0.63616438]]\n",
            "[-0.02381341 -4.5557553  -0.63616438]\n",
            "1.7385776959460097\n",
            "[[-0.02520037 -4.47587334 -0.60947928]]\n",
            "[-0.02520037 -4.47587334 -0.60947928]\n",
            "1.7035176637984835\n",
            "[[-0.02665399 -4.39676467 -0.58388203]]\n",
            "[-0.02665399 -4.39676467 -0.58388203]\n",
            "1.6691002272662274\n",
            "[[-0.02817653 -4.31843089 -0.55934103]]\n",
            "[-0.02817653 -4.31843089 -0.55934103]\n",
            "1.6353161488083263\n",
            "[[-0.02977028 -4.24087333 -0.53582408]]\n",
            "[-0.02977028 -4.24087333 -0.53582408]\n",
            "1.6021558958939397\n",
            "[[-0.03143757 -4.16409312 -0.51329853]]\n",
            "[-0.03143757 -4.16409312 -0.51329853]\n",
            "1.5696097391722994\n",
            "[[-0.03318073 -4.08809128 -0.49173153]]\n",
            "[-0.03318073 -4.08809128 -0.49173153]\n",
            "1.5376678449497094\n",
            "[[-0.03500212 -4.01286882 -0.47109014]]\n",
            "[-0.03500212 -4.01286882 -0.47109014]\n",
            "1.506320361270197\n",
            "[[-0.0369041  -3.93842684 -0.45134155]]\n",
            "[-0.0369041  -3.93842684 -0.45134155]\n",
            "1.4755574970747949\n",
            "[[-0.03888905 -3.86476655 -0.43245318]]\n",
            "[-0.03888905 -3.86476655 -0.43245318]\n",
            "1.4453695940773121\n",
            "[[-0.04095933 -3.79188942 -0.41439282]]\n",
            "[-0.04095933 -3.79188942 -0.41439282]\n",
            "1.4157471911388244\n",
            "[[-0.04311731 -3.71979721 -0.39712873]]\n",
            "[-0.04311731 -3.71979721 -0.39712873]\n",
            "1.386681081048879\n",
            "[[-0.04536533 -3.648492   -0.38062975]]\n",
            "[-0.04536533 -3.648492   -0.38062975]\n",
            "1.3581623597272192\n",
            "[[-0.04770571 -3.57797633 -0.36486536]]\n",
            "[-0.04770571 -3.57797633 -0.36486536]\n",
            "1.3301824679474352\n",
            "[[-0.05014074 -3.50825316 -0.34980578]]\n",
            "[-0.05014074 -3.50825316 -0.34980578]\n",
            "1.302733225753853\n",
            "[[-0.05267266 -3.43932594 -0.33542198]]\n",
            "[-0.05267266 -3.43932594 -0.33542198]\n",
            "1.2758068597973526\n",
            "[[-0.05530365 -3.37119867 -0.32168575]]\n",
            "[-0.05530365 -3.37119867 -0.32168575]\n",
            "1.2493960238565769\n",
            "[[-0.05803585 -3.30387586 -0.30856972]]\n",
            "[-0.05803585 -3.30387586 -0.30856972]\n",
            "1.2234938128402413\n",
            "[[-0.06087129 -3.23736261 -0.29604741]]\n",
            "[-0.06087129 -3.23736261 -0.29604741]\n",
            "1.1980937705863792\n",
            "[[-0.06381193 -3.17166455 -0.28409319]]\n",
            "[-0.06381193 -3.17166455 -0.28409319]\n",
            "1.1731898917872727\n",
            "[[-0.06685961 -3.1067879  -0.27268235]]\n",
            "[-0.06685961 -3.1067879  -0.27268235]\n",
            "1.1487766183766432\n",
            "[[-0.07001606 -3.04273937 -0.26179106]]\n",
            "[-0.07001606 -3.04273937 -0.26179106]\n",
            "1.1248488307203233\n",
            "[[-0.07328288 -2.97952625 -0.25139637]]\n",
            "[-0.07328288 -2.97952625 -0.25139637]\n",
            "1.1014018339542855\n",
            "[[-0.07666152 -2.91715629 -0.24147622]]\n",
            "[-0.07666152 -2.91715629 -0.24147622]\n",
            "1.0784313398164707\n",
            "w = [[0.19033591]\n",
            " [0.12259159]]\n",
            "b = 1.9253598300845747\n",
            "dw = [[0.67752042]\n",
            " [1.41625495]]\n",
            "db = 0.21919450454067652\n"
          ],
          "name": "stdout"
        }
      ]
    },
    {
      "metadata": {
        "id": "e5NToBRrIgxy",
        "colab_type": "text"
      },
      "cell_type": "markdown",
      "source": [
        "**Expected Output**: \n",
        "\n",
        "<table style=\"width:40%\">\n",
        "    <tr>\n",
        "       <td> **w** </td>\n",
        "       <td>[[ 0.19033591]\n",
        " [ 0.12259159]] </td>\n",
        "    </tr>\n",
        "    \n",
        "    <tr>\n",
        "       <td> **b** </td>\n",
        "       <td> 1.92535983008 </td>\n",
        "    </tr>\n",
        "    <tr>\n",
        "       <td> **dw** </td>\n",
        "       <td> [[ 0.67752042]\n",
        " [ 1.41625495]] </td>\n",
        "    </tr>\n",
        "    <tr>\n",
        "       <td> **db** </td>\n",
        "       <td> 0.219194504541 </td>\n",
        "    </tr>\n",
        "\n",
        "</table>"
      ]
    },
    {
      "metadata": {
        "id": "umCJBHMOIgxz",
        "colab_type": "text"
      },
      "cell_type": "markdown",
      "source": [
        "**Exercise:** The previous function will output the learned w and b. We are able to use w and b to predict the labels for a dataset X. Implement the `predict()` function. There are two steps to computing predictions:\n",
        "\n",
        "1. Calculate $\\hat{Y} = A = \\sigma(w^T X + b)$\n",
        "\n",
        "2. Convert the entries of $A$ into 0 (if $\\sigma(z)$ <= 0.5) or 1 (if $\\sigma(z)$ > 0.5), stores the predictions in a vector `Y_prediction`. If you wish, you can use an `if`/`else` statement in a `for` loop (though there is also a way to vectorize this). "
      ]
    },
    {
      "metadata": {
        "id": "uJNjSBerIgx0",
        "colab_type": "code",
        "colab": {}
      },
      "cell_type": "code",
      "source": [
        "# GRADED FUNCTION: predict\n",
        "\n",
        "def predict(w, b, X):\n",
        "    '''\n",
        "    Predict whether the label is 0 or 1 using learned logistic regression parameters (w, b)\n",
        "    \n",
        "    Arguments:\n",
        "    w -- weights, a numpy array of size (number of features, 1)\n",
        "    b -- bias, a scalar\n",
        "    X -- data of size (number of features, number of examples)\n",
        "    \n",
        "    Returns:\n",
        "    Y_prediction -- a numpy array (vector) containing all predictions (0/1) for the examples in X\n",
        "    '''\n",
        "    \n",
        "    m = X.shape[1]\n",
        "    Y_prediction = np.zeros((1,m))\n",
        "    \n",
        "    # Compute vector \"A\" predicting the probabilities of a cat being present in the picture\n",
        "    ### START CODE HERE ### (≈ 1 line of code)\n",
        "    A = sigmoid(np.dot(np.transpose(w), X)+b)\n",
        "    ### END CODE HERE ###\n",
        "        \n",
        "    # Convert probabilities A[0,i] to actual predictions p[0,i]\n",
        "    ### START CODE HERE ### (≈ 4 lines of code, but can be done in one line using numpy)\n",
        "    for i in range(A.shape[1]):  \n",
        "        if A[0,i] >= 0.5:\n",
        "            Y_prediction[0,i] = 1\n",
        "        else:\n",
        "            Y_prediction[0,i] = 0\n",
        "    ### Variable with probabilities called Y_prediction\n",
        "\n",
        "    ### END CODE HERE ###\n",
        "    \n",
        "    assert(Y_prediction.shape == (1, m))\n",
        "    \n",
        "    return Y_prediction"
      ],
      "execution_count": 0,
      "outputs": []
    },
    {
      "metadata": {
        "id": "ClYaM7C4Igx1",
        "colab_type": "code",
        "colab": {},
        "outputId": "8722c20c-6c13-4286-bd93-3b98385e554a"
      },
      "cell_type": "code",
      "source": [
        "w = np.array([[0.1124579],[0.23106775]])\n",
        "b = -0.3\n",
        "X = np.array([[1.,-1.1,-3.2],[1.2,2.,0.1]])\n",
        "print (\"predictions = \" + str(predict(w, b, X)))"
      ],
      "execution_count": 0,
      "outputs": [
        {
          "output_type": "stream",
          "text": [
            "predictions = [[1. 1. 0.]]\n"
          ],
          "name": "stdout"
        }
      ]
    },
    {
      "metadata": {
        "id": "BUT39WZxIgx3",
        "colab_type": "text"
      },
      "cell_type": "markdown",
      "source": [
        "**Expected Output**: \n",
        "\n",
        "<table style=\"width:30%\">\n",
        "    <tr>\n",
        "         <td>\n",
        "             **predictions**\n",
        "         </td>\n",
        "          <td>\n",
        "            [[ 1  1  0]]\n",
        "         </td>  \n",
        "   </tr>\n",
        "\n",
        "</table>\n"
      ]
    },
    {
      "metadata": {
        "id": "sb7g-flaIgx4",
        "colab_type": "text"
      },
      "cell_type": "markdown",
      "source": [
        "<font color='green'>\n",
        "**What to remember:**\n",
        "You've implemented several functions that:\n",
        "- Initialize (w,b)\n",
        "- Optimize the loss iteratively to learn parameters (w,b):\n",
        "    - computing the cost and its gradient \n",
        "    - updating the parameters using gradient descent\n",
        "- Use the learned (w,b) to predict the labels for a given set of examples"
      ]
    },
    {
      "metadata": {
        "id": "tvX5qoSZIgx6",
        "colab_type": "text"
      },
      "cell_type": "markdown",
      "source": [
        "## 5 - Merge all functions into a model ##\n",
        "\n",
        "You will now see how the overall model is structured by putting together all the building blocks (functions implemented in the previous parts) together, in the right order.\n",
        "\n",
        "**Exercise:** Implement the model function. Use the following notation:\n",
        "    - Y_prediction_test for your predictions on the test set\n",
        "    - Y_prediction_train for your predictions on the train set\n",
        "    - w, costs, grads for the outputs of optimize()"
      ]
    },
    {
      "metadata": {
        "id": "RWkqw8icIgx6",
        "colab_type": "code",
        "colab": {}
      },
      "cell_type": "code",
      "source": [
        "# GRADED FUNCTION: model\n",
        "\n",
        "def model(X_train, Y_train, X_test, Y_test, num_iterations=2000, learning_rate=0.5, print_cost=False):\n",
        "    \"\"\"\n",
        "    Builds the logistic regression model by calling the function you've implemented previously\n",
        "    \n",
        "    Arguments:\n",
        "    X_train -- training set represented by a numpy array of shape (number of features, m_train)\n",
        "    Y_train -- training labels represented by a numpy array (vector) of shape (1, m_train)\n",
        "    X_test -- test set represented by a numpy array of shape (number of features, m_test)\n",
        "    Y_test -- test labels represented by a numpy array (vector) of shape (1, m_test)\n",
        "    num_iterations -- hyperparameter representing the number of iterations to optimize the parameters\n",
        "    learning_rate -- hyperparameter representing the learning rate used in the update rule of optimize()\n",
        "    print_cost -- Set to true to print the cost every 100 iterations\n",
        "    \n",
        "    Returns:\n",
        "    d -- dictionary containing information about the model.\n",
        "    \"\"\"\n",
        "    \n",
        "    ### START CODE HERE ###\n",
        "    \n",
        "    # initialize parameters with zeros (≈ 1 line of code)\n",
        "    w, b = initialize_with_zeros(X_train.shape[0])\n",
        "\n",
        "    # Gradient descent (≈ 1 line of code)\n",
        "    parameters, grads, costs = optimize(w, b, X_train, Y_train, num_iterations, learning_rate, print_cost)\n",
        "    \n",
        "    # Retrieve parameters w and b from dictionary \"parameters\"\n",
        "    w = parameters[\"w\"]\n",
        "    b = parameters[\"b\"]\n",
        "    \n",
        "    # Predict test/train set examples (≈ 2 lines of code)\n",
        "    Y_prediction_test = predict(w, b, X_test)\n",
        "    Y_prediction_train = predict(w, b, X_train)\n",
        "\n",
        "    ### END CODE HERE ###\n",
        "\n",
        "    # Print train/test Errors\n",
        "    print(\"train accuracy: {} %\".format(100 - np.mean(np.abs(Y_prediction_train - Y_train)) * 100))\n",
        "    print(\"test accuracy: {} %\".format(100 - np.mean(np.abs(Y_prediction_test - Y_test)) * 100))\n",
        "\n",
        "    \n",
        "    d = {\"costs\": costs,\n",
        "         \"Y_prediction_test\": Y_prediction_test, \n",
        "         \"Y_prediction_train\" : Y_prediction_train, \n",
        "         \"w\" : w, \n",
        "         \"b\" : b,\n",
        "         \"learning_rate\" : learning_rate,\n",
        "         \"num_iterations\": num_iterations}\n",
        "    \n",
        "    return d"
      ],
      "execution_count": 0,
      "outputs": []
    },
    {
      "metadata": {
        "id": "9AFjdI_3Igx9",
        "colab_type": "text"
      },
      "cell_type": "markdown",
      "source": [
        "Run the following cell to train your model."
      ]
    },
    {
      "metadata": {
        "id": "L_CByy5GIgx9",
        "colab_type": "code",
        "colab": {}
      },
      "cell_type": "code",
      "source": [
        "d = model(train_set_x, train_set_y, test_set_x, test_set_y, num_iterations=2000, learning_rate=0.005, print_cost=False)"
      ],
      "execution_count": 0,
      "outputs": []
    },
    {
      "metadata": {
        "id": "j5knJ1HiIgyA",
        "colab_type": "text"
      },
      "cell_type": "markdown",
      "source": [
        "**Expected Output**: \n",
        "\n",
        "<table style=\"width:40%\"> \n",
        "\n",
        "    <tr>\n",
        "        <td> **Cost after iteration 0 **  </td> \n",
        "        <td> 0.693147 </td>\n",
        "    </tr>\n",
        "      <tr>\n",
        "        <td> <center> $\\vdots$ </center> </td> \n",
        "        <td> <center> $\\vdots$ </center> </td> \n",
        "    </tr>  \n",
        "    <tr>\n",
        "        <td> **Train Accuracy**  </td> \n",
        "        <td> 99.04306220095694 % </td>\n",
        "    </tr>\n",
        "\n",
        "    <tr>\n",
        "        <td>**Test Accuracy** </td> \n",
        "        <td> 70.0 % </td>\n",
        "    </tr>\n",
        "</table> \n",
        "\n",
        "\n"
      ]
    },
    {
      "metadata": {
        "id": "eAGGv-UOIgyA",
        "colab_type": "text"
      },
      "cell_type": "markdown",
      "source": [
        "**Comment**: Training accuracy is close to 100%. This is a good sanity check: your model is working and has high enough capacity to fit the training data. Test accuracy is 70%. It is actually not bad for this simple model, given the small dataset we used and that logistic regression is a linear classifier.\n",
        "\n",
        "Also, you see that the model is clearly overfitting the training data. Later you will learn how to reduce overfitting, for example by using regularization. Using the code below (and changing the `index` variable) you can look at predictions on pictures of the test set."
      ]
    },
    {
      "metadata": {
        "id": "6F96ZtEaIgyB",
        "colab_type": "code",
        "colab": {}
      },
      "cell_type": "code",
      "source": [
        "# Example of a picture that was classified.\n",
        "index = 7\n",
        "plt.imshow(test_set_x[:,index].reshape((64, 64, 3)))\n",
        "print (\"y = \" + str(test_set_y[0,index]) + \", you predicted that it is a \\\"\" + classes[int(d[\"Y_prediction_test\"][0,index])].decode(\"utf-8\") +  \"\\\" picture.\")"
      ],
      "execution_count": 0,
      "outputs": []
    },
    {
      "metadata": {
        "id": "iAHWKyttIgyD",
        "colab_type": "text"
      },
      "cell_type": "markdown",
      "source": [
        "Let's also plot the cost function and the gradients."
      ]
    },
    {
      "metadata": {
        "id": "4t7Vx6ffIgyE",
        "colab_type": "code",
        "colab": {}
      },
      "cell_type": "code",
      "source": [
        "# Plot learning curve (with costs)\n",
        "costs = np.squeeze(d[\"costs\"])\n",
        "plt.plot(costs)\n",
        "plt.ylabel(\"cost\")\n",
        "plt.xlabel(\"iterations (per hundreds)\")\n",
        "plt.title(\"Learning rate =\" + str(d[\"learning_rate\"]))\n",
        "plt.show()"
      ],
      "execution_count": 0,
      "outputs": []
    },
    {
      "metadata": {
        "id": "6cfRp012IgyG",
        "colab_type": "text"
      },
      "cell_type": "markdown",
      "source": [
        "**Interpretation**:\n",
        "You can see the cost decreasing. It shows that the parameters are being learned. However, you see that you could train the model even more on the training set. Try to increase the number of iterations in the cell above and rerun the cells. You might see that the training set accuracy goes up, but the test set accuracy goes down. This is called overfitting. "
      ]
    },
    {
      "metadata": {
        "id": "GUrvwHOxIgyH",
        "colab_type": "text"
      },
      "cell_type": "markdown",
      "source": [
        "## 6 - Further analysis (optional/ungraded exercise) ##\n",
        "\n",
        "Congratulations on building your first image classification model. Let's analyze it further, and examine possible choices for the learning rate $\\alpha$. "
      ]
    },
    {
      "metadata": {
        "id": "-rQquOSlIgyH",
        "colab_type": "text"
      },
      "cell_type": "markdown",
      "source": [
        "#### Choice of learning rate ####\n",
        "\n",
        "**Reminder**:\n",
        "In order for Gradient Descent to work you must choose the learning rate wisely. The learning rate $\\alpha$  determines how rapidly we update the parameters. If the learning rate is too large we may \"overshoot\" the optimal value. Similarly, if it is too small we will need too many iterations to converge to the best values. That's why it is crucial to use a well-tuned learning rate.\n",
        "\n",
        "Let's compare the learning curve of our model with several choices of learning rates. Run the cell below. This should take about 1 minute. Feel free also to try different values than the three we have initialized the `learning_rates` variable to contain, and see what happens. "
      ]
    },
    {
      "metadata": {
        "id": "IfRrjGvOIgyI",
        "colab_type": "code",
        "colab": {}
      },
      "cell_type": "code",
      "source": [
        "learning_rates = [0.01, 0.001, 0.0001]\n",
        "models = {}\n",
        "for i in learning_rates:\n",
        "    print (\"learning rate is: \" + str(i))\n",
        "    models[str(i)] = model(train_set_x, train_set_y, test_set_x, test_set_y, num_iterations=1500, learning_rate=i, print_cost=False)\n",
        "    print ('\\n' + \"-------------------------------------------------------\" + '\\n')\n",
        "\n",
        "for i in learning_rates:\n",
        "    plt.plot(np.squeeze(models[str(i)][\"costs\"]), label=str(models[str(i)][\"learning_rate\"]))\n",
        "\n",
        "plt.ylabel('cost')\n",
        "plt.xlabel('iterations (hundreds)')\n",
        "\n",
        "legend = plt.legend(loc='upper center', shadow=True)\n",
        "frame = legend.get_frame()\n",
        "frame.set_facecolor('0.90')\n",
        "plt.show()"
      ],
      "execution_count": 0,
      "outputs": []
    },
    {
      "metadata": {
        "id": "OvTnLTqGIgyK",
        "colab_type": "text"
      },
      "cell_type": "markdown",
      "source": [
        "**Interpretation**: \n",
        "- Different learning rates give different costs and thus different predictions results.\n",
        "- If the learning rate is too large (0.01), the cost may oscillate up and down. It may even diverge (though in this example, using 0.01 still eventually ends up at a good value for the cost). \n",
        "- A lower cost doesn't mean a better model. You have to check if there is possibly overfitting. It happens when the training accuracy is a lot higher than the test accuracy.\n",
        "- We usually recommend that you: \n",
        "    - Choose the learning rate that better minimizes the cost function.\n",
        "    - If your model overfits, use other techniques to reduce overfitting. \n"
      ]
    }
  ]
}